{
 "cells": [
  {
   "cell_type": "code",
   "execution_count": 461,
   "metadata": {},
   "outputs": [
    {
     "data": {
      "text/plain": [
       "<module 'progressive_kuhn_utils' from '/Users/andrewspears/poker_analysis/progressive_kuhn_utils.py'>"
      ]
     },
     "execution_count": 461,
     "metadata": {},
     "output_type": "execute_result"
    }
   ],
   "source": [
    "import numpy as np\n",
    "import random\n",
    "import matplotlib.pyplot as plt\n",
    "import four_card_progressive_kuhn as pk\n",
    "import importlib\n",
    "importlib.reload(pk)"
   ]
  },
  {
   "cell_type": "code",
   "execution_count": 447,
   "metadata": {},
   "outputs": [
    {
     "name": "stdout",
     "output_type": "stream",
     "text": [
      "['-', 'C', '-', 'B'], Pot: 2\n",
      "Folded\n",
      "['-', 'C', 'R', 'B'], Pot: 4, Payoff: 2, Folded\n",
      "caller possible hands: [1, 1, 0, 0]\n",
      "bet ev:  2.0\n",
      "check ev:  2.0\n"
     ]
    }
   ],
   "source": [
    "bettor = pk.FourCardBettor(\n",
    "    [1, 0, 0, 1],\n",
    "    [\n",
    "        [[0, 0, 0, 1],\n",
    "         [0, 0, 0, 1],\n",
    "         [0, 0, 0, 1],\n",
    "         [0, 0, 0, 1]],\n",
    "        [[0, 0, 0, 1],\n",
    "         [0, 0, 0, 1],\n",
    "         [0, 0, 0, 1],\n",
    "         [0, 0, 0, 1]],\n",
    "    ]\n",
    ")\n",
    "caller = pk.FourCardCaller(\n",
    "    [0, 0, 1, 1],\n",
    "    [\n",
    "        [[0, 0, 1, 1],\n",
    "         [0, 0, 1, 1],\n",
    "         [0, 0, 1, 1],\n",
    "         [0, 0, 1, 1]],\n",
    "        [[0, 0, 1, 1],\n",
    "         [0, 0, 1, 1],\n",
    "         [0, 0, 1, 1],\n",
    "         [0, 0, 1, 1]],\n",
    "    ]\n",
    ")\n",
    "state = pk.FourCardRunout(bettor, caller, streets=1)\n",
    "caller_distr = pk.Distribution(pk.FourCardHands, state.caller_possibilities(onehot=True), normalize=True)\n",
    "print(\"caller possible hands:\", state.caller_possibilities(onehot=True))\n",
    "print(\"bet ev: \", caller.bet_ev_against(state, caller_distr))\n",
    "print(\"check ev: \", caller.check_ev_against(state, caller_distr))"
   ]
  },
  {
   "cell_type": "code",
   "execution_count": 448,
   "metadata": {},
   "outputs": [
    {
     "name": "stdout",
     "output_type": "stream",
     "text": [
      "['C', 'B', '-', 'R'], Pot: 2\n",
      "-1.0\n",
      "0.0\n"
     ]
    }
   ],
   "source": [
    "state = pk.FourCardState(1, 0, 3, [0])\n",
    "caller_distr = pk.Distribution(pk.FourCardHands, state.caller_possibilities(onehot=True), normalize=True)\n",
    "print(state)\n",
    "print(caller.bet_ev_against(state, caller_distr))\n",
    "print(caller.check_ev_against(state, caller_distr))"
   ]
  },
  {
   "cell_type": "code",
   "execution_count": 449,
   "metadata": {},
   "outputs": [
    {
     "name": "stdout",
     "output_type": "stream",
     "text": [
      "['-', 'C', '-', 'B'], Pot: 2\n",
      "-0.6666666666666666\n",
      "-1\n"
     ]
    }
   ],
   "source": [
    "state = pk.FourCardState(3, 1, 2, [])\n",
    "bettor_distr = pk.Distribution(pk.FourCardHands, state.bettor_possibilities(onehot=True), normalize=True)\n",
    "print(state)\n",
    "print(bettor.call_ev_against(state, bettor_distr))\n",
    "print(bettor.fold_ev_against(state, bettor_distr))"
   ]
  },
  {
   "cell_type": "code",
   "execution_count": 463,
   "metadata": {},
   "outputs": [
    {
     "name": "stdout",
     "output_type": "stream",
     "text": [
      "bettor possible hands: [1, 1, 0, 1]\n",
      "Evaluating Call ev in state ['-', 'B', 'C', '-'], Pot: 2\n",
      "Evaluating state ['R', 'B', 'C', '-'], Pot: 4\n",
      "Bettor distr: Keys: [0 1 2 3], Probs: [0.  0.5 0.  0.5]\n",
      "Bettor distr given bet: Keys: [0 1 2 3], Probs: [0.   0.99 0.   0.01]\n",
      "Bettor distr given check: Keys: [0 1 2 3], Probs: [0.   0.01 0.   0.99]\n",
      "Bet probability: 0.5\n",
      "EV given bet: 2.999387880024485\n",
      "Check probability: 0.5\n",
      "EV given check: -1.96\n",
      "EV given revealed card 0: 0.5196939400122425\n",
      "Evaluating state ['-', 'R', 'C', '-'], Pot: 4\n",
      "Bettor distr: Keys: [0 1 2 3], Probs: [0.5 0.  0.  0.5]\n",
      "Bettor distr given bet: Keys: [0 1 2 3], Probs: [0.99 0.   0.   0.01]\n",
      "Bettor distr given check: Keys: [0 1 2 3], Probs: [0.01 0.   0.   0.99]\n",
      "Bet probability: 0.5\n",
      "EV given bet: 2.999387880024485\n",
      "Check probability: 0.5\n",
      "EV given check: -1.96\n",
      "EV given revealed card 1: 0.5196939400122425\n",
      "Evaluating state ['-', 'B', 'C', 'R'], Pot: 4\n",
      "Bettor distr: Keys: [0 1 2 3], Probs: [0.5 0.5 0.  0. ]\n",
      "Bettor distr given bet: Keys: [0 1 2 3], Probs: [0.5 0.5 0.  0. ]\n",
      "Bettor distr given check: Keys: [0 1 2 3], Probs: [0.5 0.5 0.  0. ]\n",
      "Bet probability: 0.99\n",
      "EV given bet: 3.0\n",
      "Check probability: 0.010000000000000009\n",
      "EV given check: 2.0\n",
      "EV given revealed card 3: 2.9899999999999998\n",
      "0th street call ev:  1.3431292933414951\n",
      "0th street fold ev:  -1\n"
     ]
    }
   ],
   "source": [
    "# a bettor who always bets the 0th street, but only bets the 1st street with bad cards\n",
    "bettor = pk.FourCardBettor(\n",
    "    [1, 1, 1, 1],\n",
    "    [\n",
    "        [[0.99, 0.99, 0.01, 0.01],\n",
    "         [0.99, 0.99, 0.01, 0.01],\n",
    "         [0.99, 0.99, 0.01, 0.01],\n",
    "         [0.99, 0.99, 0.01, 0.01]],\n",
    "        [[0.99, 0.99, 0.01, 0.01],\n",
    "         [0.99, 0.99, 0.01, 0.01],\n",
    "         [0.99, 0.99, 0.01, 0.01],\n",
    "         [0.99, 0.99, 0.01, 0.01]],\n",
    "    ]\n",
    ")\n",
    "state = pk.FourCardState(1, 2, 0)\n",
    "bettor_distr = pk.Distribution(pk.FourCardHands, state.bettor_possibilities(onehot=True), normalize=True)\n",
    "print(\"bettor possible hands:\", state.bettor_possibilities(onehot=True))\n",
    "print(\"0th street call ev: \", bettor.call_ev_against(state, bettor_distr, verbose=True))\n",
    "print(\"0th street fold ev: \", bettor.fold_ev_against(state, bettor_distr))"
   ]
  },
  {
   "cell_type": "code",
   "execution_count": 464,
   "metadata": {},
   "outputs": [
    {
     "name": "stdout",
     "output_type": "stream",
     "text": [
      "caller possible hands: [1, 0, 1, 1]\n",
      "Evaluating Call ev in state ['-', 'B', 'C', '-'], Pot: 2\n",
      "Evaluating state ['R', 'B', 'C', '-'], Pot: 4\n",
      "Bettor distr: Keys: [0 1 2 3], Probs: [0.  0.5 0.  0.5]\n",
      "Bettor distr given bet: Keys: [0 1 2 3], Probs: [0.   0.99 0.   0.01]\n",
      "Bettor distr given check: Keys: [0 1 2 3], Probs: [0.   0.01 0.   0.99]\n",
      "Bet probability: 0.5\n",
      "EV given bet: 2.999387880024485\n",
      "Check probability: 0.5\n",
      "EV given check: -1.96\n",
      "EV given revealed card 0: 0.5196939400122425\n",
      "Evaluating state ['-', 'R', 'C', '-'], Pot: 4\n",
      "Bettor distr: Keys: [0 1 2 3], Probs: [0.5 0.  0.  0.5]\n",
      "Bettor distr given bet: Keys: [0 1 2 3], Probs: [0.99 0.   0.   0.01]\n",
      "Bettor distr given check: Keys: [0 1 2 3], Probs: [0.01 0.   0.   0.99]\n",
      "Bet probability: 0.5\n",
      "EV given bet: 2.999387880024485\n",
      "Check probability: 0.5\n",
      "EV given check: -1.96\n",
      "EV given revealed card 1: 0.5196939400122425\n",
      "Evaluating state ['-', 'B', 'C', 'R'], Pot: 4\n",
      "Bettor distr: Keys: [0 1 2 3], Probs: [0.5 0.5 0.  0. ]\n",
      "Bettor distr given bet: Keys: [0 1 2 3], Probs: [0.5 0.5 0.  0. ]\n",
      "Bettor distr given check: Keys: [0 1 2 3], Probs: [0.5 0.5 0.  0. ]\n",
      "Bet probability: 0.99\n",
      "EV given bet: 3.0\n",
      "Check probability: 0.010000000000000009\n",
      "EV given check: 2.0\n",
      "EV given revealed card 3: 2.9899999999999998\n",
      "0th street bet ev:  1.3431292933414951\n",
      "Evaluating Check ev in state ['-', 'B', 'C', '-'], Pot: 2\n",
      "Evaluating state ['R', 'B', 'C', '-'], Pot: 2\n",
      "EV given revealed card 0: 0.0\n",
      "Evaluating state ['-', 'B', 'R', '-'], Pot: 2\n",
      "EV given revealed card 2: 0.0\n",
      "Evaluating state ['-', 'B', 'C', 'R'], Pot: 2\n",
      "EV given revealed card 3: 0.0\n",
      "0th street check ev:  0.0\n"
     ]
    }
   ],
   "source": [
    "caller = pk.FourCardCaller(\n",
    "    [0, 0, 0, 1],\n",
    "    [\n",
    "        [[0, 0, 1, 1],\n",
    "         [0, 0, 1, 1],\n",
    "         [0, 0, 1, 1],\n",
    "         [0, 0, 1, 1]],\n",
    "        [[0, 0, 1, 1],\n",
    "         [0, 0, 1, 1],\n",
    "         [0, 0, 1, 1],\n",
    "         [0, 0, 1, 1]],\n",
    "    ]\n",
    ")\n",
    "state = pk.FourCardState(1, 2, 0)\n",
    "caller_distr = pk.Distribution(pk.FourCardHands, state.caller_possibilities(onehot=True), normalize=True)\n",
    "print(\"caller possible hands:\", state.caller_possibilities(onehot=True))\n",
    "print(\"0th street bet ev: \", bettor.call_ev_against(state, bettor_distr, verbose=True))\n",
    "print(\"0th street check ev: \", caller.check_ev_against(state, bettor_distr, verbose=True))"
   ]
  },
  {
   "cell_type": "code",
   "execution_count": null,
   "metadata": {},
   "outputs": [],
   "source": []
  }
 ],
 "metadata": {
  "kernelspec": {
   "display_name": "3.11.3",
   "language": "python",
   "name": "python3"
  },
  "language_info": {
   "codemirror_mode": {
    "name": "ipython",
    "version": 3
   },
   "file_extension": ".py",
   "mimetype": "text/x-python",
   "name": "python",
   "nbconvert_exporter": "python",
   "pygments_lexer": "ipython3",
   "version": "3.11.3"
  }
 },
 "nbformat": 4,
 "nbformat_minor": 2
}
