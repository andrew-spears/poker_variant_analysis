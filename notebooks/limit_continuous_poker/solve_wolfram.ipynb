{
 "cells": [
  {
   "cell_type": "markdown",
   "metadata": {
    "vscode": {
     "languageId": "wolfram"
    }
   },
   "source": [
    "### Von Neumann Poker\n",
    "\n",
    "Von Neumann poker (also called Continous poker) is a simplified model of poker. It is a two-player zero-sum game designed to study strategic decision-making in competitive environments. The game abstracts away many complexities of real poker, focusing instead on the mathematical and strategic aspects of bluffing, betting, and optimal play.\n",
    "\n",
    "The original game works as follows:\n",
    "* The game involves only two players, often referred to as the bettor and the caller.\n",
    "* Players are each dealt a real number uniformly and independently from the interval [0, 1]\n",
    "* The game consists of a single 'half-street' of betting, where the bettor chooses between checking and betting a fixed amount $s$, but the caller can only call or fold (no raising, and a check by the bettor goes straight to showdown).\n",
    "* In showdown, the higher hand strength wins.\n",
    "\n",
    "Von Neumann poker has a solved Nash equilibrium strategy profile discussed here: http://datagenetics.com/blog/december32018/index.html\n",
    "\n",
    "What if we allow the bettor to choose a bet size $s$? \n",
    "\n",
    "A variant where $s$ can be any nonnegative real number is called No-limit Continuous Poker, discussed and solved here (page 154 of \"The Mathematics of Poker\" by Bill Chen and Jerrod Ankenman): https://www.pokerbooks.lt/books/en/The_Mathematics_of_Poker.pdf\n",
    "\n",
    "### Limit Continuous Poker\n",
    "\n",
    "We now consider the variant where $s$ is bounded by an upper limit $U$ and lower limit $L$, referred to as the max and min bets. We will call this variant Limit Continuous Poker.\n",
    "\n",
    "To fully describe the rules:\n",
    "* Two players: bettor and caller (or I and II).\n",
    "* Players are each dealt a real number uniformly and independently from the interval [0, 1]\n",
    "* A single 'half-street' of betting: the bettor chooses between checking and betting a fixed amount $s \\in [L, U]$; if a bet is made, the caller either calls or folds.\n",
    "* In showdown, the higher hand strength wins.\n",
    "\n",
    "We attempt to answer the following questions:\n",
    "* What is the Nash equilibrium strategy profile for Limit Continuous Poker?\n",
    "* What is the value of the game, and does the bettor have the upper hand still (as in No-limit Continuous Poker)? If so, is there a simple strategic argument for why the bettor must win in expectation?\n",
    "* As the bounds $L$ and $U$ change, how does the strategy profile change? Does this reflect observed behavior in real poker games with minimum and maximum bet sizes?\n",
    "* As the bounds $L$ and $U$ approach 0 and $\\infty$, respectively, does the strategy profile approach the Nash equilibrium of No-limit Continuous Poker?\n",
    "* As the bounds $L$ and $U$ approach some fixed value $s$ from either side, does the strategy profile approach the Nash equilibrium of Continuous Poker with fixed bet size $s$?"
   ]
  },
  {
   "cell_type": "code",
   "execution_count": null,
   "metadata": {
    "vscode": {
     "languageId": "wolfram"
    }
   },
   "outputs": [
    {
     "ename": "",
     "evalue": "",
     "output_type": "error",
     "traceback": [
      "\u001b[1;31mFailed to start the Kernel. \n",
      "\u001b[1;31mThe kernel died. Error: ... View Jupyter <a href='command:jupyter.viewOutput'>log</a> for further details."
     ]
    }
   ],
   "source": [
    "(*---------------LU Limit Continuous Poker----------------------------------------*)\n",
    "\n",
    "(*Keep the bettor indifferent between bluffing any amount and \\\n",
    "checking at the max bluffing hand strength*)\n",
    "\n",
    "bluffIndiff = 1/2 ci[s] + (1 - ci[s]) (-1/2-s) == x2;\n",
    "\n",
    "(*Keep the caller indifferent between calling and folding to a bet \\\n",
    "(between min and max)*)\n",
    "callIndiff = bi'[s] (1/2 + s) - vi'[s] (-1/2-s) == 0;\n",
    "\n",
    "(*Keep the caller indifferent between calling and folding to an \\\n",
    "All-in*)\n",
    "callIndiffMax = x0 (1/2 + U) + (1 - x5) (-1/2-U) == 0;\n",
    "\n",
    "(*Keep the caller indifferent between calling and folding to a min \\\n",
    "bet*)\n",
    "callIndiffMin = (x2 - x1) (1/2 + L) + (x4 - x3) (-1/2-L) == 0;\n",
    "\n",
    "(*The size that the bettor uses for a value bet must maximize EV*)\n",
    "(*This comes from differentiating the EV of bet return WRT s and \\\n",
    "setting to 0*)\n",
    "(* EV = x(2s + 1) - s(c(s) + 1) - 1/2 *)\n",
    "(* dEV/ds = 2x - c(s) - 1 - s*c'(s) = 0 *)\n",
    "valueOptimality = -s*ci'[s] - ci[s] + 2 vi[s] - 1 == 0;\n",
    "\n",
    "(*The boundary points of the bluffing function and value function*)\n",
    "boundaryConditions = {bi[U] == x0, bi[L] == x1, vi[U] == x5, vi[L] == x4};\n",
    "\n",
    "(*Keep the bettor indifferent between checking and making a min value \\\n",
    "bet with the most marginal value betting hand*)\n",
    "valueIndiff = 1/2 ci[L] + (1/2 + L) (x3 - ci[L]) + (1 - x3) (-1/2-L) == x3;\n",
    "\n",
    "(*Solve for c(s) first*)\n",
    "Csol = Solve[{bluffIndiff}, {ci[s]}][[1]];\n",
    "(*\n",
    "Use c(s) to solve for v(s)*)\n",
    "\n",
    "Vsol = Solve[{valueOptimality /. {ci'[s] -> D[ci[s] /. Csol, s]} /. \n",
    "      Csol}, {vi[s]}][[1]];\n",
    "\n",
    "(*Use v(s) to solve for b(s),getting an extra constant of integration \\\n",
    "C1*)\n",
    "Bsol = \n",
    "  DSolve[{callIndiff /. {vi'[s] -> D[vi[s] /. Vsol /. Csol, s]}}, bi[s], \n",
    "    s, GeneratedParameters -> (b0 &)][[1]];\n",
    "\n",
    "Union[{callIndiffMax, callIndiffMin, valueIndiff}, \n",
    "     boundaryConditions] /. {bi[s_] -> bi[s] /. Bsol} /. {vi[s_] -> \n",
    "      vi[s] /. Vsol} /. {ci[s_] -> ci[s] /. Csol};\n",
    "\n",
    "(*Use v(s),c(s),and b(s) with all our equations to solve for all the \\\n",
    "scalars*)\n",
    "Xsol = \n",
    "  Solve[Union[{callIndiffMax, callIndiffMin, valueIndiff}, \n",
    "         boundaryConditions] /. {bi[s_] -> bi[s] /. Bsol} /. {vi[s_] -> \n",
    "          vi[s] /. Vsol} /. {ci[s_] -> ci[s] /. Csol}, {x0, x1, x2, x3, \n",
    "      x4, x5, b0}][[1]] // Simplify;\n",
    "\n",
    "(*Plug the scalars back into the function solutions*)\n",
    "LimitSol = \n",
    " Union[Vsol, Csol, Bsol, Xsol] // Simplify"
   ]
  },
  {
   "cell_type": "code",
   "execution_count": null,
   "metadata": {
    "vscode": {
     "languageId": "wolfram"
    }
   },
   "outputs": [],
   "source": [
    "(*define the final functions b,c,and v*)\n",
    "b[s_] := Evaluate[(bi[s] /. LimitSol)]\n",
    "c[s_] := Evaluate[(ci[s] /. LimitSol)]\n",
    "v[s_] := Evaluate[(vi[s] /. LimitSol)]\n",
    "vinv[x_] := -1 - Sqrt[(4 x - 4) (-2 + 2 x2)]/(4 x - 4)\n"
   ]
  },
  {
   "cell_type": "code",
   "execution_count": null,
   "metadata": {
    "vscode": {
     "languageId": "wolfram"
    }
   },
   "outputs": [],
   "source": [
    "(*-------------analysis of payoff--------------*)\n",
    "\n",
    "cInv[y_] := (x2 - y)/(y - 1);\n",
    "intBExpr = Integrate[b[s1], s1] // FullSimplify;\n",
    "intB[s_] := intBExpr /. s1 -> s\n",
    "intVExpr = Integrate[v[s1], s1] // FullSimplify;\n",
    "intV[s_] := intVExpr /. s1 -> s\n",
    "intVinvExpr = Integrate[vinv[xt], xt] // FullSimplify;\n",
    "intVinv[x_] := intVinvExpr /. xt -> x\n",
    "\n",
    "bth := x2;\n",
    "vth := x3;\n",
    "\n",
    "assumptions = {\n",
    "   0 < b[U] < b[L] < x2 < x3 < v[L] < v[U] < 1,\n",
    "   U > L > 0,\n",
    "   1 > c[U] > c[L]\n",
    "   };\n",
    "\n",
    "(* utility functions to compute the expected value of a region *)\n",
    "\n",
    "loseShowdownPayoff[sIntegral_, area_] := -sIntegral - 0.5*area;\n",
    "winShowdownPayoff[sIntegral_, area_] := sIntegral + 0.5*area;\n",
    "loseAntePayoff[sIntegral_, area_] := -0.5*area;\n",
    "winAntePayoff[sIntegral_, area_] := 0.5*area;\n",
    "\n",
    "InverseIntegrate[f_, s_, {a_, b_}] := \n",
    " Assuming[\n",
    "  assumptions, -Integrate[f, {s, a, b}] + b*f /. s -> b - a*f /. \n",
    "   s -> a]\n",
    "\n",
    "ComputeArea[xMinOfY_, xMaxOfY_, yMin_, yMax_] := \n",
    " Assuming[assumptions, \n",
    "  Integrate[(xMaxOfY[y] - xMinOfY[y]), {y, yMin, yMax}]\n",
    "  ]\n",
    "\n",
    "ConstantRegion[xMinOfY_, xMaxOfY_, yMin_, yMax_, s_, payoffFunc_] := \n",
    " Module[{area},\n",
    "  area = ComputeArea[xMinOfY, xMaxOfY, yMin, yMax];\n",
    "  payoffFunc[s*area, area]\n",
    "  ]\n",
    "\n",
    "VariableRegionVinv[xMinOfY_, xMaxOfY_, yMin_, yMax_, payoffFunc_] := \n",
    " Module[{area},\n",
    "  area = ComputeArea[xMinOfY, xMaxOfY, yMin, yMax];\n",
    "  sInt = Assuming[assumptions, \n",
    "    Integrate[intVinv[xMaxOfY[y]] - intVinv[xMinOfY[y]],\n",
    "      {y, yMin, yMax}\n",
    "     ]\n",
    "     ];\n",
    "  payoffFunc[sInt, area]\n",
    "  ]\n",
    "\n",
    "InverseRegionB[sLeftOfY_, sRightOfY_, yMin_, yMax_, payoffFunc_] := \n",
    " Module[{xMinOfY, xMaxOfY, area, sInt},\n",
    "  xMinOfY[y_] := b[sLeftOfY[y]];\n",
    "  xMaxOfY[y_] := b[sRightOfY[y]];\n",
    "  area = ComputeArea[xMinOfY, xMaxOfY, yMin, yMax];\n",
    "  sInt = \n",
    "   Assuming[assumptions, \n",
    "    Integrate [-intB[sRightOfY[y]] + intB[sLeftOfY[y]] + \n",
    "      sRightOfY[y]*xMaxOfY[y] - sLeftOfY[y]*xMinOfY[y], {y, yMin, \n",
    "      yMax}]];\n",
    "  payoffFunc[sInt, area]\n",
    "  ]\n",
    "\n",
    "InverseRegionV[sLeftOfY_, sRightOfY_, yMin_, yMax_, payoffFunc_] := \n",
    " Module[{xMinOfY, xMaxOfY, area, sInt},\n",
    "  xMinOfY[y_] := v[sLeftOfY[y]];\n",
    "  xMaxOfY[y_] := v[sRightOfY[y]];\n",
    "  area = ComputeArea[xMinOfY, xMaxOfY, yMin, yMax];\n",
    "  sInt = \n",
    "   Assuming[assumptions, \n",
    "    Integrate[-intV[sRightOfY[y]] + intV[sLeftOfY[y]] + \n",
    "      sRightOfY[y]*xMaxOfY[y] - sLeftOfY[y]*xMinOfY[y], {y, yMin, \n",
    "      yMax}]];\n",
    "  payoffFunc[sInt, area]\n",
    "  ]"
   ]
  },
  {
   "cell_type": "code",
   "execution_count": null,
   "metadata": {
    "vscode": {
     "languageId": "wolfram"
    }
   },
   "outputs": [],
   "source": [
    "(* define all regions of the partitioned square and find their payoffs *)\n",
    "\n",
    "r0 := ConstantRegion[Function[y, 0], Function[y, b[U]], c[U], 1, U, \n",
    "   loseShowdownPayoff];\n",
    "r1 := InverseRegionB[Function[y, U], Function[y, L], c[U], 1, \n",
    "   loseShowdownPayoff];\n",
    "r2 := InverseRegionB[Function[y, cInv[y]], Function[y, L], c[L], c[U],\n",
    "    loseShowdownPayoff];\n",
    "r3 := ConstantRegion[Function[y, b[L]], Function[y, bth], c[L], 1, L, \n",
    "   loseShowdownPayoff];\n",
    "r4 := ConstantRegion[Function[y, 0], Function[y, b[U]], c[L], c[U], 0,\n",
    "    winAntePayoff];\n",
    "r5 := ConstantRegion[Function[y, b[U]], Function[y, b[cInv[y]]], c[L],\n",
    "    c[U], 0, winAntePayoff];\n",
    "r6 := ConstantRegion[Function[y, 0], Function[y, bth], 0, c[L], 0, \n",
    "   winAntePayoff];\n",
    "r7 := ConstantRegion[Function[y, bth], Function[y, vth], vth, 1, 0, \n",
    "   loseAntePayoff];\n",
    "(*r8:=ConstantRegion[Function[y,bth],Function[y,y],bth,vth,0,\\\n",
    "loseAntePayoff];\n",
    "r9:=ConstantRegion[Function[y,y],Function[y,vth],bth,vth,0,\\\n",
    "winAntePayoff];*)\n",
    "r10 := ConstantRegion[Function[y, bth], Function[y, vth], 0, bth, 0, \n",
    "   winAntePayoff];\n",
    "r11 := ConstantRegion[Function[y, vth], Function[y, v[L]], v[L], 1, L,\n",
    "    loseShowdownPayoff];\n",
    "(*r12:=ConstantRegion[Function[y,vth],Function[y,y],vth,v[L],L,\\\n",
    "loseShowdownPayoff];*)\n",
    "r13 := VariableRegionVinv[Function[y, v[L]], Function[y, v[U]], v[U], \n",
    "   1, loseShowdownPayoff];\n",
    "r14 := VariableRegionVinv[Function[y, v[L]], Function[y, y], v[L], \n",
    "   v[U], loseShowdownPayoff];\n",
    "(*r15:=ConstantRegion[Function[y,v[U]],Function[y,y],v[U],1,U,\\\n",
    "loseShowdownPayoff];*)\n",
    "(*r16:=ConstantRegion[Function[y,y],Function[y,v[L]],vth,v[L],L,\\\n",
    "winShowdownPayoff];*)\n",
    "r17 := ConstantRegion[Function[y, vth], Function[y, v[L]], c[L], vth, \n",
    "   L, winShowdownPayoff];\n",
    "r18 := VariableRegionVinv[Function[y, y], Function[y, v[U]], v[L], \n",
    "   v[U], winShowdownPayoff];\n",
    "r19 := InverseRegionV[Function[y, L], Function[y, U], c[U], v[L], \n",
    "   winShowdownPayoff];\n",
    "r20 := InverseRegionV[Function[y, L], Function[y, cInv[y]], c[L], \n",
    "   c[U], winShowdownPayoff];\n",
    "(*r21:=ConstantRegion[Function[y,y],Function[y,1],v[U],1,U,\\\n",
    "winShowdownPayoff];*)\n",
    "r22 := ConstantRegion[Function[y, v[U]], Function[y, 1], c[U], v[U], \n",
    "   U, winShowdownPayoff];\n",
    "r23 := ConstantRegion[Function[y, v[cInv[y]]], Function[y, 1], c[L], \n",
    "   c[U], 0, winAntePayoff];\n",
    "r24 := ConstantRegion[Function[y, vth], Function[y, 1], 0, c[L], 0, \n",
    "   winAntePayoff];\n"
   ]
  },
  {
   "cell_type": "code",
   "execution_count": null,
   "metadata": {
    "vscode": {
     "languageId": "wolfram"
    }
   },
   "outputs": [],
   "source": [
    "(* ClearAll[regions]\n",
    "regions = {r0, r1, r2, r3, r4, r5, r6, r7, r10, r11, r13, r14, r17, \n",
    "   r18, r19, r20, r22, r23, r24};\n",
    "\n",
    "(*Step 2:Simplify each term,keeping everything exact*)\n",
    "simplifiedTerms = Table[\n",
    "   Print[\"Simplifying r\", i];\n",
    "   Simplify[regions[[i]], assumptions] // \n",
    "    Rationalize,(*You can also try Together or Simplify*)\n",
    "   {i, \n",
    "    Length[regions]}];\n",
    "\n",
    "(*Step 3:Incremental exact summation with monitoring*)\n",
    "Print[\"Incremental summation...\"];\n",
    "partialSum = simplifiedTerms[[1]];\n",
    "\n",
    "Do[\n",
    "  Print[\"Adding term \", i];\n",
    "  partialSum = \n",
    "   Simplify[partialSum + simplifiedTerms[[i]], assumptions];\n",
    "  (*Print[\"ByteCount: \",ByteCount[\n",
    "  partialSum]];*)\n",
    "  , {i, 2, Length[simplifiedTerms]}\n",
    "  ]; *)"
   ]
  },
  {
   "cell_type": "code",
   "execution_count": null,
   "metadata": {
    "vscode": {
     "languageId": "wolfram"
    }
   },
   "outputs": [],
   "source": [
    "(* finalValue=FullSimplify[partialSum/.LimitSol, assumptions] *)"
   ]
  },
  {
   "cell_type": "code",
   "execution_count": null,
   "metadata": {
    "vscode": {
     "languageId": "wolfram"
    }
   },
   "outputs": [],
   "source": [
    "VLCP[L_, U_] := ((1 + L)^3 (1 + U)^3 - ((1 + L)^3 + L^3 (1 + U)^3))/\n",
    "         (14 (1 + L)^3 (1 + U)^3 - 2 ((1 + L)^3 + L^3 (1 + U)^3))\n",
    "\n",
    "(* target - finalValue // Simplify *)"
   ]
  },
  {
   "cell_type": "code",
   "execution_count": null,
   "metadata": {
    "vscode": {
     "languageId": "wolfram"
    }
   },
   "outputs": [],
   "source": []
  },
  {
   "cell_type": "code",
   "execution_count": null,
   "metadata": {
    "vscode": {
     "languageId": "wolfram"
    }
   },
   "outputs": [],
   "source": [
    "VLCP[L, U]//Expand"
   ]
  },
  {
   "cell_type": "code",
   "execution_count": null,
   "metadata": {
    "vscode": {
     "languageId": "wolfram"
    }
   },
   "outputs": [],
   "source": [
    "D[VLCP[L, U], L] //Simplify\n",
    "D[VLCP[L, U], U] //Simplify"
   ]
  },
  {
   "cell_type": "code",
   "execution_count": null,
   "metadata": {
    "vscode": {
     "languageId": "wolfram"
    }
   },
   "outputs": [],
   "source": [
    "TeXForm[VLCP[L, U]/. L -> 0]"
   ]
  },
  {
   "cell_type": "code",
   "execution_count": null,
   "metadata": {
    "vscode": {
     "languageId": "wolfram"
    }
   },
   "outputs": [],
   "source": [
    "Limit[Limit[VLCP[L, U], L -> 0], U->Infinity] //Simplify"
   ]
  },
  {
   "cell_type": "code",
   "execution_count": null,
   "metadata": {
    "vscode": {
     "languageId": "wolfram"
    }
   },
   "outputs": [],
   "source": [
    "(* compute value by vertical strips *)\n",
    "bluffPayoff[x_] := x2 - 1/2\n",
    "checkPayoff[x_] := x - 1/2\n",
    "minBetPayoff[x_] := x(2L + 1) - L(c[L] + 1) - 1/2\n",
    "maxBetPayoff[x_] := x(2U + 1) - U(c[U] + 1) - 1/2\n",
    "intermediateBetPayoff[x_] := x(2vinv[x] + 1) - vinv[x](c[vinv[x]] + 1) - 1/2\n",
    "\n",
    "totalBluffPayoff = Assuming[assumptions, Integrate[bluffPayoff[x], {x, 0, x2}]] \n",
    "totalCheckPayoff = Assuming[assumptions, Integrate[checkPayoff[x], {x, x2, x3}]] \n",
    "totalMinBetPayoff = Assuming[assumptions, Integrate[minBetPayoff[x], {x, x3, v[L]}]] \n",
    "totalIntermediateBetPayoff = Assuming[assumptions, Integrate[intermediateBetPayoff[x], {x, v[L], v[U]}]] \n",
    "totalMaxBetPayoff = Assuming[assumptions, Integrate[maxBetPayoff[x], {x, v[U], 1}]] \n",
    "\n",
    "totalPayoff = Assuming[assumptions, totalBluffPayoff + totalCheckPayoff + totalMinBetPayoff + totalMaxBetPayoff + totalIntermediateBetPayoff]\n",
    "\n",
    "stripResult=FullSimplify[Simplify[totalPayoff, assumptions] /. LimitSol, assumptions];\n",
    "\n",
    "stripResult - VLCP[L, U] // FullSimplify"
   ]
  },
  {
   "cell_type": "code",
   "execution_count": null,
   "metadata": {
    "vscode": {
     "languageId": "wolfram"
    }
   },
   "outputs": [],
   "source": [
    "D[x2/.LimitSol, U]//Simplify\n",
    "(* (1-x2)/(vinv[x] + 1)^2 * 1/(4-4x) + 1 *)\n",
    " "
   ]
  },
  {
   "cell_type": "code",
   "execution_count": null,
   "metadata": {
    "vscode": {
     "languageId": "wolfram"
    }
   },
   "outputs": [],
   "source": [
    "dvinvdU=D[vinv[x], x2]//Simplify;\n",
    "\n",
    "vinv[x]\n",
    "(1-x2)/(vinv[x]+1)^2 // Simplify\n",
    "(* TeXForm[dvinvdU] *)\n",
    "(* this is always negative, so the bet size of intermediate bets is decreasing in U *)\n",
    "(* \n",
    "cvinv[x]:=c[vinv[x]]/.LimitSol\n",
    "dcdU=D[cvinv[x], U]//Simplify\n",
    "(* this is always positive, so the call cutoff is increasing in U *)\n",
    "\n",
    "dEVdU = Assuming[{1/2<x<1, U>0, L>0}, Simplify[dvinvdU * (-dcdU-c[vinv[x]]+2x-1) /. x-> v[U] /.LimitSol]]\n",
    " *)\n",
    "\n",
    "(* Use Reduce with assumptions *)\n",
    "(* Reduce[1/2<x<1 && 0< U && dEVdU > 0, {x, U}, Reals] *)\n",
    "\n",
    "(* Plot[dEVdU/.x->0.999, {U, 0, 10}] *)\n"
   ]
  },
  {
   "cell_type": "code",
   "execution_count": null,
   "metadata": {
    "vscode": {
     "languageId": "wolfram"
    }
   },
   "outputs": [],
   "source": [
    "x5/.LimitSol"
   ]
  },
  {
   "cell_type": "code",
   "execution_count": null,
   "metadata": {
    "vscode": {
     "languageId": "wolfram"
    }
   },
   "outputs": [],
   "source": [
    "EVU = 1/2 c + (x - c) (U + 1/2) + (1 - x) (-U - 1/2);\n",
    "(* dEVU = D[EVU/.LimitSol, U]//Simplify\n",
    "Plot[dEVU/.x->0.999/.L->0, {U, 0, 10}] *)\n",
    "D[EVU, c]\n",
    "D[c[s], x2]\n",
    "D[x2/.LimitSol, U]\n",
    "D[c[s], s]//Simplify\n",
    "D[EVU, U]\n",
    "expand = D[EVU, c] (D[c[s], x2] dx2du + D[c[s], s]) + D[EVU, U];\n",
    "res = expand/.{c->c[U], s->U}//Simplify;\n",
    "\n",
    "res2 = res/.dx2du->D[x2/.LimitSol, U] /. LimitSol // Simplify\n",
    "\n",
    "\n",
    "(* Resolve[ForAll[{x, U, L}, \n",
    "  ((x5 /. LimitSol) < x < 1 && U > L && L > 0) \\[Implies] (res2 > 0)\n",
    "], Reals] *)\n",
    "\n",
    "\n"
   ]
  },
  {
   "cell_type": "code",
   "execution_count": null,
   "metadata": {
    "vscode": {
     "languageId": "wolfram"
    }
   },
   "outputs": [],
   "source": [
    "D[x2/.LimitSol, U]//Simplify\n",
    "(* (1-x2)/(vinv[x] + 1)^2 * 1/(4-4x) + 1 *)\n",
    " "
   ]
  },
  {
   "cell_type": "code",
   "execution_count": null,
   "metadata": {
    "vscode": {
     "languageId": "wolfram"
    }
   },
   "outputs": [],
   "source": [
    "D[x2/.LimitSol, U]//Simplify\n",
    "(* (1-x2)/(vinv[x] + 1)^2 * 1/(4-4x) + 1 *)\n",
    " "
   ]
  }
 ],
 "metadata": {
  "kernelspec": {
   "display_name": "Wolfram Language 12.3",
   "language": "Wolfram Language",
   "name": "wolframlanguage12.3"
  },
  "language_info": {
   "codemirror_mode": "mathematica",
   "file_extension": ".m",
   "mimetype": "application/vnd.wolfram.m",
   "name": "Wolfram Language",
   "pygments_lexer": "mathematica",
   "version": "12.0"
  }
 },
 "nbformat": 4,
 "nbformat_minor": 2
}
