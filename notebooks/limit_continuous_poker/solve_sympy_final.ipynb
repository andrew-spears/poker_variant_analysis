{
 "cells": [
  {
   "cell_type": "markdown",
   "metadata": {},
   "source": [
    "# Symbolic Solution for Limit Continuous Poker\n",
    "\n",
    "This notebook derives the Nash equilibrium of LCP using transformed coordinates:\n",
    "- $r = L/(1+L)$ (minimum pot odds)\n",
    "- $t = 1/(1+U)$ (pot fraction at max bet)\n",
    "\n",
    "The solution provides closed-form expressions for all strategic components."
   ]
  },
  {
   "cell_type": "code",
   "execution_count": 35,
   "metadata": {},
   "outputs": [],
   "source": [
    "import sympy as sp\n",
    "import numpy as np\n",
    "from sympy import symbols, Function, Eq, solve, diff, integrate, factor, lambdify\n",
    "from typing import Dict\n",
    "from dataclasses import dataclass\n",
    "import game_utils.ContinuousPokerVariants.ContinuousPokerUtils as poker_utils"
   ]
  },
  {
   "cell_type": "markdown",
   "metadata": {},
   "source": [
    "## Variable Definitions"
   ]
  },
  {
   "cell_type": "code",
   "execution_count": 3,
   "metadata": {},
   "outputs": [],
   "source": [
    "# Transformed parameters and bet size (s) and hand strength (x)\n",
    "r, t, s, x = symbols('r t s x')\n",
    "\n",
    "# Original parameters in terms of r, t\n",
    "L_expr = r / (1 - r)\n",
    "U_expr = (1 - t) / t\n",
    "\n",
    "# Hand strength thresholds\n",
    "x0, x1, x2, x3, x4, x5 = symbols('x0 x1 x2 x3 x4 x5')\n",
    "\n",
    "# Strategy functions\n",
    "c_func = Function('c')  # Calling threshold\n",
    "v_func = Function('v')  # Value betting\n",
    "b_func = Function('b')  # Bluffing\n",
    "\n",
    "# Integration constant\n",
    "b0 = symbols('b0')"
   ]
  },
  {
   "cell_type": "markdown",
   "metadata": {},
   "source": [
    "## Step 1: Calling Threshold c(s)\n",
    "\n",
    "From bettor indifference at marginal bluffing hand $x_2$:\n",
    "$$c(s) - (1-c(s))s = x_2$$"
   ]
  },
  {
   "cell_type": "code",
   "execution_count": 4,
   "metadata": {},
   "outputs": [
    {
     "name": "stdout",
     "output_type": "stream",
     "text": [
      "✓ Derived c(s):\n"
     ]
    },
    {
     "data": {
      "text/latex": [
       "$\\displaystyle c{\\left(s \\right)} = \\frac{s + x_{2}}{s + 1}$"
      ],
      "text/plain": [
       "Eq(c(s), (s + x2)/(s + 1))"
      ]
     },
     "metadata": {},
     "output_type": "display_data"
    }
   ],
   "source": [
    "def derive_calling_threshold() -> sp.Expr:\n",
    "    bettor_indiff_eq = Eq(c_func(s) - (1 - c_func(s)) * s, x2)\n",
    "    c_solution = solve(bettor_indiff_eq, c_func(s))[0]\n",
    "    return c_solution\n",
    "\n",
    "c_expr = derive_calling_threshold()\n",
    "print(\"✓ Derived c(s):\")\n",
    "display(Eq(c_func(s), c_expr))"
   ]
  },
  {
   "cell_type": "markdown",
   "metadata": {},
   "source": [
    "## Step 2: Value Betting Function v(s)\n",
    "\n",
    "From first-order optimality, the bettor with hand $v(s)$ must be indifferent about bet size."
   ]
  },
  {
   "cell_type": "code",
   "execution_count": 5,
   "metadata": {},
   "outputs": [
    {
     "name": "stdout",
     "output_type": "stream",
     "text": [
      "✓ Derived v(s):\n"
     ]
    },
    {
     "data": {
      "text/latex": [
       "$\\displaystyle v{\\left(s \\right)} = \\frac{2 s^{2} + 4 s + x_{2} + 1}{2 \\left(s^{2} + 2 s + 1\\right)}$"
      ],
      "text/plain": [
       "Eq(v(s), (2*s**2 + 4*s + x2 + 1)/(2*(s**2 + 2*s + 1)))"
      ]
     },
     "metadata": {},
     "output_type": "display_data"
    }
   ],
   "source": [
    "def derive_value_function(c_expr: sp.Expr) -> sp.Expr:\n",
    "    optimality_ode = Eq(-s * diff(c_expr, s) - c_expr + 2 * v_func(s) - 1, 0)\n",
    "    v_solution = solve(optimality_ode, v_func(s))[0]\n",
    "    return v_solution\n",
    "\n",
    "v_expr = derive_value_function(c_expr)\n",
    "print(\"✓ Derived v(s):\")\n",
    "display(Eq(v_func(s), v_expr))"
   ]
  },
  {
   "cell_type": "markdown",
   "metadata": {},
   "source": [
    "## Step 3: Bluffing Function b(s)\n",
    "\n",
    "From caller indifference at threshold $c(s)$:\n",
    "$$-b'(s)(1+s) = v'(s)s$$"
   ]
  },
  {
   "cell_type": "code",
   "execution_count": 6,
   "metadata": {},
   "outputs": [
    {
     "name": "stdout",
     "output_type": "stream",
     "text": [
      "✓ Derived b(s):\n"
     ]
    },
    {
     "data": {
      "text/latex": [
       "$\\displaystyle b{\\left(s \\right)} = b_{0} - \\frac{\\left(3 s + 1\\right) \\left(x_{2} - 1\\right)}{6 \\left(s^{3} + 3 s^{2} + 3 s + 1\\right)}$"
      ],
      "text/plain": [
       "Eq(b(s), b0 - (3*s + 1)*(x2 - 1)/(6*(s**3 + 3*s**2 + 3*s + 1)))"
      ]
     },
     "metadata": {},
     "output_type": "display_data"
    }
   ],
   "source": [
    "def derive_bluffing_function(v_expr: sp.Expr) -> sp.Expr:\n",
    "    caller_indiff_ode = Eq(diff(b_func(s), s) * (1 + s) + diff(v_expr, s) * s, 0)\n",
    "    b_solution = sp.dsolve(caller_indiff_ode, b_func(s))\n",
    "    b_solution_expr = b_solution.rhs.subs(\"C1\", b0)\n",
    "    return b_solution_expr\n",
    "\n",
    "b_expr = derive_bluffing_function(v_expr)\n",
    "print(\"✓ Derived b(s):\")\n",
    "display(Eq(b_func(s), b_expr))"
   ]
  },
  {
   "cell_type": "markdown",
   "metadata": {},
   "source": [
    "## Step 4: Hand Strength Thresholds\n",
    "\n",
    "Solve for $x_0, x_1, x_3, x_4, x_5$ using boundary conditions."
   ]
  },
  {
   "cell_type": "code",
   "execution_count": 7,
   "metadata": {},
   "outputs": [
    {
     "name": "stdout",
     "output_type": "stream",
     "text": [
      "Solving for hand strength thresholds...\n",
      "✓ Solved for x0, x1, x3, x4, x5 in terms of x2\n",
      "\n"
     ]
    },
    {
     "data": {
      "text/latex": [
       "$\\displaystyle x_{0} = \\frac{t^{3} x_{2}}{2} - \\frac{t^{3}}{2} - \\frac{t^{2} x_{2}}{2} + \\frac{t^{2}}{2}$"
      ],
      "text/plain": [
       "Eq(x0, t**3*x2/2 - t**3/2 - t**2*x2/2 + t**2/2)"
      ]
     },
     "metadata": {},
     "output_type": "display_data"
    },
    {
     "data": {
      "text/latex": [
       "$\\displaystyle x_{1} = - \\frac{r^{3} x_{2}}{2} + \\frac{r^{3}}{2} + \\frac{r^{2} x_{2}}{2} - \\frac{r^{2}}{2} + x_{2}$"
      ],
      "text/plain": [
       "Eq(x1, -r**3*x2/2 + r**3/2 + r**2*x2/2 - r**2/2 + x2)"
      ]
     },
     "metadata": {},
     "output_type": "display_data"
    },
    {
     "data": {
      "text/latex": [
       "$\\displaystyle x_{3} = - \\frac{r x_{2}}{2} + \\frac{r}{2} + \\frac{x_{2}}{2} + \\frac{1}{2}$"
      ],
      "text/plain": [
       "Eq(x3, -r*x2/2 + r/2 + x2/2 + 1/2)"
      ]
     },
     "metadata": {},
     "output_type": "display_data"
    },
    {
     "data": {
      "text/latex": [
       "$\\displaystyle x_{4} = \\frac{r^{2} x_{2}}{2} - \\frac{r^{2}}{2} - r x_{2} + r + \\frac{x_{2}}{2} + \\frac{1}{2}$"
      ],
      "text/plain": [
       "Eq(x4, r**2*x2/2 - r**2/2 - r*x2 + r + x2/2 + 1/2)"
      ]
     },
     "metadata": {},
     "output_type": "display_data"
    },
    {
     "data": {
      "text/latex": [
       "$\\displaystyle x_{5} = \\frac{t^{2} x_{2}}{2} - \\frac{t^{2}}{2} + 1$"
      ],
      "text/plain": [
       "Eq(x5, t**2*x2/2 - t**2/2 + 1)"
      ]
     },
     "metadata": {},
     "output_type": "display_data"
    }
   ],
   "source": [
    "print(\"Solving for hand strength thresholds...\")\n",
    "\n",
    "c_at_L = c_expr.subs(s, L_expr)\n",
    "v_at_L = v_expr.subs(s, L_expr)\n",
    "v_at_U = v_expr.subs(s, U_expr)\n",
    "\n",
    "equations = [\n",
    "    Eq(x2 - x1 - r * (x4 - x3), 0),\n",
    "    Eq(x0 - (1 - x5) * (1 - t), 0),\n",
    "    Eq(x3 - (1 + c_at_L) / 2, 0),\n",
    "    Eq(v_at_L, x4),\n",
    "    Eq(v_at_U, x5),\n",
    "]\n",
    "\n",
    "threshold_solution = sp.linsolve(equations, (x0, x1, x3, x4, x5))\n",
    "threshold_tuple = list(threshold_solution)[0]\n",
    "\n",
    "thresholds = {\n",
    "    var: expr\n",
    "    for var, expr in zip([x0, x1, x3, x4, x5], threshold_tuple)\n",
    "}\n",
    "\n",
    "print(\"✓ Solved for x0, x1, x3, x4, x5 in terms of x2\\n\")\n",
    "for name in ['x0', 'x1', 'x3', 'x4', 'x5']:\n",
    "    sym = symbols(name)\n",
    "    display(Eq(sym, thresholds[sym]))"
   ]
  },
  {
   "cell_type": "markdown",
   "metadata": {},
   "source": [
    "## Step 5: Solve for x2 and b0\n",
    "\n",
    "Using boundary conditions: $b(U) = x_0$ and $b(L) = x_1$."
   ]
  },
  {
   "cell_type": "code",
   "execution_count": 8,
   "metadata": {},
   "outputs": [
    {
     "name": "stdout",
     "output_type": "stream",
     "text": [
      "✓ Solved for x2 and b0:\n"
     ]
    },
    {
     "data": {
      "text/latex": [
       "$\\displaystyle x_{2} = \\frac{r^{3} + t^{3} - 1}{r^{3} + t^{3} - 7}$"
      ],
      "text/plain": [
       "Eq(x2, (r**3 + t**3 - 1)/(r**3 + t**3 - 7))"
      ]
     },
     "metadata": {},
     "output_type": "display_data"
    },
    {
     "data": {
      "text/latex": [
       "$\\displaystyle b_{0} = \\frac{t^{3}}{r^{3} + t^{3} - 7}$"
      ],
      "text/plain": [
       "Eq(b0, t**3/(r**3 + t**3 - 7))"
      ]
     },
     "metadata": {},
     "output_type": "display_data"
    }
   ],
   "source": [
    "b_at_L = b_expr.subs(s, L_expr)\n",
    "b_at_U = b_expr.subs(s, U_expr)\n",
    "\n",
    "boundary_equations = [\n",
    "    Eq(b_at_U, thresholds[x0]),\n",
    "    Eq(b_at_L, thresholds[x1]),\n",
    "]\n",
    "\n",
    "b0_x2_solution = sp.linsolve(boundary_equations, (b0, x2))\n",
    "b0_val, x2_val = list(b0_x2_solution)[0]\n",
    "\n",
    "print(\"✓ Solved for x2 and b0:\")\n",
    "display(Eq(x2, x2_val))\n",
    "display(Eq(b0, b0_val))"
   ]
  },
  {
   "cell_type": "markdown",
   "metadata": {},
   "source": [
    "## Step 6: Simplify Complete Solution"
   ]
  },
  {
   "cell_type": "code",
   "execution_count": 23,
   "metadata": {},
   "outputs": [
    {
     "name": "stdout",
     "output_type": "stream",
     "text": [
      "Simplifying expressions...\n",
      "✓ Simplified all expressions\n"
     ]
    }
   ],
   "source": [
    "print(\"Simplifying expressions...\")\n",
    "thresholds[x2] = x2_val\n",
    "thresholds[b0] = b0_val\n",
    "\n",
    "for key in [x0, x1, x3, x4, x5]:\n",
    "    thresholds[key] = thresholds[key].subs(x2, x2_val).simplify()\n",
    "\n",
    "c_expr_final = c_expr.subs(x2, x2_val).simplify()\n",
    "v_expr_final = v_expr.subs(x2, x2_val).simplify()\n",
    "b_expr_final = b_expr.subs(b0, b0_val).subs(x2, x2_val).simplify()\n",
    "b_expr_final = ((sp.numer(b_expr_final) + (3*s+1)).factor() - (3*s+1))/ sp.denom(b_expr_final)\n",
    "\n",
    "print(\"✓ Simplified all expressions\")"
   ]
  },
  {
   "cell_type": "markdown",
   "metadata": {},
   "source": [
    "## Step 7: Inverse Value Function"
   ]
  },
  {
   "cell_type": "code",
   "execution_count": 25,
   "metadata": {},
   "outputs": [],
   "source": [
    "def derive_inverse_value_function(v_expr):\n",
    "    v_inv_expr = -1 - sp.sqrt( (4*x-4) * (-2 + 2*x2) ) / (4*x-4)\n",
    "    assert x == v_expr.subs(s, v_inv_expr).simplify()\n",
    "    return v_inv_expr.subs(x2, x2_val).simplify()\n",
    "\n",
    "v_inv_expr = derive_inverse_value_function(v_expr)"
   ]
  },
  {
   "cell_type": "markdown",
   "metadata": {},
   "source": [
    "## Complete Solution"
   ]
  },
  {
   "cell_type": "code",
   "execution_count": 26,
   "metadata": {},
   "outputs": [
    {
     "name": "stdout",
     "output_type": "stream",
     "text": [
      "======================================================================\n",
      "LIMIT CONTINUOUS POKER - Nash Equilibrium Solution\n",
      "======================================================================\n",
      "\n",
      "Hand Strength Thresholds:\n",
      "----------------------------------------------------------------------\n"
     ]
    },
    {
     "data": {
      "text/latex": [
       "$\\displaystyle x_{0} = \\frac{3 t^{2} \\left(t - 1\\right)}{r^{3} + t^{3} - 7}$"
      ],
      "text/plain": [
       "Eq(x0, 3*t**2*(t - 1)/(r**3 + t**3 - 7))"
      ]
     },
     "metadata": {},
     "output_type": "display_data"
    },
    {
     "data": {
      "text/latex": [
       "$\\displaystyle x_{1} = \\frac{- 2 r^{3} + 3 r^{2} + t^{3} - 1}{r^{3} + t^{3} - 7}$"
      ],
      "text/plain": [
       "Eq(x1, (-2*r**3 + 3*r**2 + t**3 - 1)/(r**3 + t**3 - 7))"
      ]
     },
     "metadata": {},
     "output_type": "display_data"
    },
    {
     "data": {
      "text/latex": [
       "$\\displaystyle x_{2} = \\frac{r^{3} + t^{3} - 1}{r^{3} + t^{3} - 7}$"
      ],
      "text/plain": [
       "Eq(x2, (r**3 + t**3 - 1)/(r**3 + t**3 - 7))"
      ]
     },
     "metadata": {},
     "output_type": "display_data"
    },
    {
     "data": {
      "text/latex": [
       "$\\displaystyle x_{3} = \\frac{r^{3} - 3 r + t^{3} - 4}{r^{3} + t^{3} - 7}$"
      ],
      "text/plain": [
       "Eq(x3, (r**3 - 3*r + t**3 - 4)/(r**3 + t**3 - 7))"
      ]
     },
     "metadata": {},
     "output_type": "display_data"
    },
    {
     "data": {
      "text/latex": [
       "$\\displaystyle x_{4} = \\frac{r^{3} + 3 r^{2} - 6 r + t^{3} - 4}{r^{3} + t^{3} - 7}$"
      ],
      "text/plain": [
       "Eq(x4, (r**3 + 3*r**2 - 6*r + t**3 - 4)/(r**3 + t**3 - 7))"
      ]
     },
     "metadata": {},
     "output_type": "display_data"
    },
    {
     "data": {
      "text/latex": [
       "$\\displaystyle x_{5} = \\frac{r^{3} + t^{3} + 3 t^{2} - 7}{r^{3} + t^{3} - 7}$"
      ],
      "text/plain": [
       "Eq(x5, (r**3 + t**3 + 3*t**2 - 7)/(r**3 + t**3 - 7))"
      ]
     },
     "metadata": {},
     "output_type": "display_data"
    },
    {
     "name": "stdout",
     "output_type": "stream",
     "text": [
      "\n",
      "Strategy Functions:\n",
      "----------------------------------------------------------------------\n"
     ]
    },
    {
     "data": {
      "text/latex": [
       "$\\displaystyle c{\\left(s \\right)} = \\frac{r^{3} + s \\left(r^{3} + t^{3} - 7\\right) + t^{3} - 1}{\\left(s + 1\\right) \\left(r^{3} + t^{3} - 7\\right)}$"
      ],
      "text/plain": [
       "Eq(c(s), (r**3 + s*(r**3 + t**3 - 7) + t**3 - 1)/((s + 1)*(r**3 + t**3 - 7)))"
      ]
     },
     "metadata": {},
     "output_type": "display_data"
    },
    {
     "data": {
      "text/latex": [
       "$\\displaystyle v{\\left(s \\right)} = \\frac{r^{3} + t^{3} + \\left(r^{3} + t^{3} - 7\\right) \\left(2 s^{2} + 4 s + 1\\right) - 1}{2 \\left(r^{3} + t^{3} - 7\\right) \\left(s^{2} + 2 s + 1\\right)}$"
      ],
      "text/plain": [
       "Eq(v(s), (r**3 + t**3 + (r**3 + t**3 - 7)*(2*s**2 + 4*s + 1) - 1)/(2*(r**3 + t**3 - 7)*(s**2 + 2*s + 1)))"
      ]
     },
     "metadata": {},
     "output_type": "display_data"
    },
    {
     "data": {
      "text/latex": [
       "$\\displaystyle b{\\left(s \\right)} = \\frac{- 3 s + t^{3} \\left(s + 1\\right)^{3} - 1}{\\left(r^{3} + t^{3} - 7\\right) \\left(s^{3} + 3 s^{2} + 3 s + 1\\right)}$"
      ],
      "text/plain": [
       "Eq(b(s), (-3*s + t**3*(s + 1)**3 - 1)/((r**3 + t**3 - 7)*(s**3 + 3*s**2 + 3*s + 1)))"
      ]
     },
     "metadata": {},
     "output_type": "display_data"
    },
    {
     "name": "stdout",
     "output_type": "stream",
     "text": [
      "\n"
     ]
    }
   ],
   "source": [
    "@dataclass\n",
    "class LCPSolution:\n",
    "    thresholds: Dict[sp.Symbol, sp.Expr]\n",
    "    c_expr: sp.Expr\n",
    "    v_expr: sp.Expr\n",
    "    b_expr: sp.Expr\n",
    "\n",
    "    def display(self):\n",
    "        print(\"=\" * 70)\n",
    "        print(\"LIMIT CONTINUOUS POKER - Nash Equilibrium Solution\")\n",
    "        print(\"=\" * 70)\n",
    "        print()\n",
    "\n",
    "        print(\"Hand Strength Thresholds:\")\n",
    "        print(\"-\" * 70)\n",
    "        for name in ['x0', 'x1', 'x2', 'x3', 'x4', 'x5']:\n",
    "            sym = symbols(name)\n",
    "            expr = self.thresholds[sym]\n",
    "            display(Eq(sym, expr))\n",
    "        print()\n",
    "\n",
    "        print(\"Strategy Functions:\")\n",
    "        print(\"-\" * 70)\n",
    "        display(Eq(c_func(s), self.c_expr))\n",
    "        display(Eq(v_func(s), self.v_expr))\n",
    "        display(Eq(b_func(s), self.b_expr))\n",
    "        print()\n",
    "\n",
    "    def to_latex(self) -> Dict[str, str]:\n",
    "        latex_dict = {}\n",
    "        for sym, expr in self.thresholds.items():\n",
    "            latex_dict[str(sym)] = sp.latex(Eq(sym, expr))\n",
    "        latex_dict['c(s)'] = sp.latex(Eq(c_func(s), self.c_expr))\n",
    "        latex_dict['v(s)'] = sp.latex(Eq(v_func(s), self.v_expr))\n",
    "        latex_dict['b(s)'] = sp.latex(Eq(b_func(s), self.b_expr))\n",
    "        return latex_dict\n",
    "\n",
    "solution = LCPSolution(\n",
    "    thresholds=thresholds,\n",
    "    c_expr=c_expr_final,\n",
    "    v_expr=v_expr_final,\n",
    "    b_expr=b_expr_final\n",
    ")\n",
    "\n",
    "solution.display()"
   ]
  },
  {
   "cell_type": "markdown",
   "metadata": {},
   "source": [
    "## Numerical Strategy Functions"
   ]
  },
  {
   "cell_type": "code",
   "execution_count": 27,
   "metadata": {},
   "outputs": [],
   "source": [
    "def _convert_params(**kwargs):\n",
    "    if 'L' in kwargs and 'U' in kwargs:\n",
    "        L_val = kwargs['L']\n",
    "        U_val = kwargs['U']\n",
    "        r_val = L_val / (1 + L_val)\n",
    "        t_val = 1 / (1 + U_val)\n",
    "        return r_val, t_val\n",
    "    elif 'r' in kwargs and 't' in kwargs:\n",
    "        return kwargs['r'], kwargs['t']\n",
    "    else:\n",
    "        raise ValueError(\"Must provide either (L, U) or (r, t) parameters\")\n",
    "\n",
    "def call_threshold(s_val, **kwargs):\n",
    "    r_val, t_val = _convert_params(**kwargs)\n",
    "    c_numeric = lambdify(s, solution.c_expr.subs({r: r_val, t: t_val}))\n",
    "    return float(c_numeric(s_val))\n",
    "\n",
    "def bluff_threshold(**kwargs):\n",
    "    r_val, t_val = _convert_params(**kwargs)\n",
    "    x2_expr = solution.thresholds[x2].subs({r: r_val, t: t_val})\n",
    "    return float(x2_expr)\n",
    "\n",
    "def value_threshold(**kwargs):\n",
    "    r_val, t_val = _convert_params(**kwargs)\n",
    "    x3_expr = solution.thresholds[x3].subs({r: r_val, t: t_val})\n",
    "    return float(x3_expr)\n",
    "\n",
    "def bluff_size(x_val, **kwargs):\n",
    "    r_val, t_val = _convert_params(**kwargs)\n",
    "    L_val = r_val / (1 - r_val)\n",
    "    U_val = (1 - t_val) / t_val\n",
    "\n",
    "    x0_val = solution.thresholds[x0].subs({r: r_val, t: t_val})\n",
    "    x1_val = solution.thresholds[x1].subs({r: r_val, t: t_val})\n",
    "    x2_val = solution.thresholds[x2].subs({r: r_val, t: t_val})\n",
    "    b0_val = solution.thresholds[b0].subs({r: r_val, t: t_val})\n",
    "\n",
    "    if x_val < x0_val:\n",
    "        return U_val\n",
    "    elif x_val < x1_val:\n",
    "        from scipy.optimize import brentq\n",
    "        b_substituted = solution.b_expr.subs({\n",
    "            r: r_val,\n",
    "            t: t_val,\n",
    "            x2: x2_val,\n",
    "            b0: b0_val\n",
    "        })\n",
    "        b_numeric = lambdify(s, b_substituted)\n",
    "        try:\n",
    "            result = brentq(lambda s_test: b_numeric(s_test) - x_val, L_val, U_val)\n",
    "            return result\n",
    "        except:\n",
    "            return None\n",
    "    else:\n",
    "        return L_val\n",
    "\n",
    "def value_size(x_val, **kwargs):\n",
    "    r_val, t_val = _convert_params(**kwargs)\n",
    "    L_val = r_val / (1 - r_val)\n",
    "    U_val = (1 - t_val) / t_val\n",
    "\n",
    "    x4_val = solution.thresholds[x4].subs({r: r_val, t: t_val})\n",
    "    x5_val = solution.thresholds[x5].subs({r: r_val, t: t_val})\n",
    "\n",
    "    if x_val < x4_val:\n",
    "        return L_val\n",
    "    elif x_val < x5_val:\n",
    "        vinv_numeric = lambdify(x, v_inv_expr.subs({r: r_val, t: t_val}))\n",
    "        return float(vinv_numeric(x_val))\n",
    "    else:\n",
    "        return U_val"
   ]
  },
  {
   "cell_type": "markdown",
   "metadata": {},
   "source": [
    "## Visualization"
   ]
  },
  {
   "cell_type": "code",
   "execution_count": 29,
   "metadata": {},
   "outputs": [
    {
     "data": {
      "image/png": "[encoded data removed]",
      "text/plain": [
       "<Figure size 800x600 with 1 Axes>"
      ]
     },
     "metadata": {},
     "output_type": "display_data"
    }
   ],
   "source": [
    "poker_utils.generate_strategy_plot(\n",
    "    bluff_threshold,\n",
    "    bluff_size,\n",
    "    value_threshold,\n",
    "    value_size,\n",
    "    call_threshold,\n",
    "    L=2, U=5\n",
    ")"
   ]
  },
  {
   "cell_type": "markdown",
   "metadata": {},
   "source": [
    "## LaTeX Output"
   ]
  },
  {
   "cell_type": "code",
   "execution_count": null,
   "metadata": {},
   "outputs": [
    {
     "name": "stdout",
     "output_type": "stream",
     "text": [
      "======================================================================\n",
      "LaTeX Format:\n",
      "======================================================================\n",
      "x_{0} = \\frac{3 t^{2} \\left(t - 1\\right)}{r^{3} + t^{3} - 7}\n",
      "x_{1} = \\frac{- 2 r^{3} + 3 r^{2} + t^{3} - 1}{r^{3} + t^{3} - 7}\n",
      "x_{3} = \\frac{r^{3} - 3 r + t^{3} - 4}{r^{3} + t^{3} - 7}\n",
      "x_{4} = \\frac{r^{3} + 3 r^{2} - 6 r + t^{3} - 4}{r^{3} + t^{3} - 7}\n",
      "x_{5} = \\frac{r^{3} + t^{3} + 3 t^{2} - 7}{r^{3} + t^{3} - 7}\n",
      "x_{2} = \\frac{r^{3} + t^{3} - 1}{r^{3} + t^{3} - 7}\n",
      "b_{0} = \\frac{t^{3}}{r^{3} + t^{3} - 7}\n",
      "c{\\left(s \\right)} = \\frac{r^{3} + s \\left(r^{3} + t^{3} - 7\\right) + t^{3} - 1}{\\left(s + 1\\right) \\left(r^{3} + t^{3} - 7\\right)}\n",
      "v{\\left(s \\right)} = \\frac{r^{3} + t^{3} + \\left(r^{3} + t^{3} - 7\\right) \\left(2 s^{2} + 4 s + 1\\right) - 1}{2 \\left(r^{3} + t^{3} - 7\\right) \\left(s^{2} + 2 s + 1\\right)}\n",
      "b{\\left(s \\right)} = \\frac{- 3 s + t^{3} \\left(s + 1\\right)^{3} - 1}{\\left(r^{3} + t^{3} - 7\\right) \\left(s^{3} + 3 s^{2} + 3 s + 1\\right)}\n"
     ]
    }
   ],
   "source": [
    "print(\"=\" * 70)\n",
    "print(\"LaTeX Format:\")\n",
    "print(\"=\" * 70)\n",
    "latex_output = solution.to_latex()\n",
    "for key, latex_str in latex_output.items():\n",
    "    print(latex_str)"
   ]
  },
  {
   "cell_type": "markdown",
   "metadata": {},
   "source": [
    "## Game Value Computation"
   ]
  },
  {
   "cell_type": "code",
   "execution_count": 59,
   "metadata": {},
   "outputs": [
    {
     "data": {
      "text/latex": [
       "$\\displaystyle \\frac{3 \\left(r \\left(r^{4} - 4 r^{3} - 6 r^{2} + r t^{3} + 8 r - t^{3} + 1\\right) + t^{2} \\left(- r^{3} - t^{3} + 3 t^{2} - 18 t + 19\\right)\\right) \\left(r^{3} + t^{3} - 7\\right)^{2} + \\left(r^{6} + 2 r^{3} t^{3} - 14 r^{3} + t^{6} - 14 t^{3} + 49\\right) \\left(3 r^{3} \\left(r^{3} + t^{3} + 3 t^{2} - 7\\right) + 3 r^{3} \\left(- r^{3} - 3 r^{2} + 6 r - t^{3} + 4\\right) + 99 r^{2} - 198 r + 3 t^{3} \\left(r^{3} + t^{3} + 3 t^{2} - 7\\right) + 3 t^{3} \\left(- r^{3} - 3 r^{2} + 6 r - t^{3} + 4\\right) - 99 t^{2} - 48 \\left(\\frac{t^{2}}{\\left(r^{3} + t^{3} - 7\\right)^{2}}\\right)^{\\frac{3}{2}} \\left(r^{3} + t^{3} - 7\\right)^{3} + 48 \\left(\\frac{r^{2} - 2 r + 1}{\\left(r^{3} + t^{3} - 7\\right)^{2}}\\right)^{\\frac{3}{2}} \\left(r^{3} + t^{3} - 7\\right)^{3} + 3 \\left(r + 1\\right) \\left(r^{3} + t^{3} - 7\\right) - \\left(r^{3} + t^{3} - 1\\right)^{2} + \\left(r^{3} + t^{3} - 1\\right) \\left(r^{3} + t^{3} + 5\\right) + \\left(r^{3} - 3 r + t^{3} - 4\\right)^{2} - \\left(r^{3} + t^{3} + 3 t^{2} - 7\\right)^{2} + \\left(r^{3} + 3 r^{2} - 6 r + t^{3} - 4\\right)^{2} + 99\\right)}{2 \\left(r^{3} + t^{3} - 7\\right)^{2} \\left(r^{6} + 2 r^{3} t^{3} - 14 r^{3} + t^{6} - 14 t^{3} + 49\\right)}$"
      ],
      "text/plain": [
       "(3*(r*(r**4 - 4*r**3 - 6*r**2 + r*t**3 + 8*r - t**3 + 1) + t**2*(-r**3 - t**3 + 3*t**2 - 18*t + 19))*(r**3 + t**3 - 7)**2 + (r**6 + 2*r**3*t**3 - 14*r**3 + t**6 - 14*t**3 + 49)*(3*r**3*(r**3 + t**3 + 3*t**2 - 7) + 3*r**3*(-r**3 - 3*r**2 + 6*r - t**3 + 4) + 99*r**2 - 198*r + 3*t**3*(r**3 + t**3 + 3*t**2 - 7) + 3*t**3*(-r**3 - 3*r**2 + 6*r - t**3 + 4) - 99*t**2 - 48*(t**2/(r**3 + t**3 - 7)**2)**(3/2)*(r**3 + t**3 - 7)**3 + 48*((r**2 - 2*r + 1)/(r**3 + t**3 - 7)**2)**(3/2)*(r**3 + t**3 - 7)**3 + 3*(r + 1)*(r**3 + t**3 - 7) - (r**3 + t**3 - 1)**2 + (r**3 + t**3 - 1)*(r**3 + t**3 + 5) + (r**3 - 3*r + t**3 - 4)**2 - (r**3 + t**3 + 3*t**2 - 7)**2 + (r**3 + 3*r**2 - 6*r + t**3 - 4)**2 + 99))/(2*(r**3 + t**3 - 7)**2*(r**6 + 2*r**3*t**3 - 14*r**3 + t**6 - 14*t**3 + 49))"
      ]
     },
     "metadata": {},
     "output_type": "display_data"
    }
   ],
   "source": [
    "def compute_game_value(solution: LCPSolution) -> sp.Expr:\n",
    "    bluff_payoff = solution.thresholds[x2] - sp.Rational(1, 2)\n",
    "    check_payoff = x - sp.Rational(1, 2)\n",
    "    min_bet_payoff = (x * (2*L_expr + 1) - L_expr * (solution.c_expr.subs(s, L_expr) + 1) - sp.Rational(1, 2)).simplify()\n",
    "    max_bet_payoff = (x * (2*U_expr + 1) - U_expr * (solution.c_expr.subs(s, U_expr) + 1) - sp.Rational(1, 2)).simplify()\n",
    "    \n",
    "    intermediate_bet_payoff = (x * (2*v_inv_expr + 1) - v_inv_expr * (solution.c_expr.subs(s, v_inv_expr) + 1) - sp.Rational(1, 2)).simplify()\n",
    "    q = sp.Symbol('q')\n",
    "    q_expr = (x-1)/(r**3+t**3-7)\n",
    "    intermediate_bet_payoff = intermediate_bet_payoff.subs(q_expr, q).collect(q).collect(x).subs(q, q_expr)\n",
    "\n",
    "    bluff_integral = integrate(\n",
    "        bluff_payoff,\n",
    "        (x, 0, thresholds[x2])\n",
    "    ).simplify()\n",
    "\n",
    "    check_integral = integrate(\n",
    "        check_payoff,\n",
    "        (x, thresholds[x2], thresholds[x3])\n",
    "    ).simplify()\n",
    "    \n",
    "    min_bet_integral = integrate(\n",
    "        min_bet_payoff,\n",
    "        (x, thresholds[x3], thresholds[x4])\n",
    "    ).simplify()\n",
    "\n",
    "    max_bet_integral = integrate(\n",
    "        max_bet_payoff,\n",
    "        (x, thresholds[x5], 1)\n",
    "    ).simplify()\n",
    "\n",
    "    intermediate_bet_integral = integrate(\n",
    "        intermediate_bet_payoff,\n",
    "        (x, thresholds[x4], thresholds[x5])\n",
    "    ).simplify()\n",
    "    \n",
    "    game_value = bluff_integral + check_integral + min_bet_integral + max_bet_integral + intermediate_bet_integral\n",
    "    return game_value.simplify()\n",
    "\n",
    "game_value = compute_game_value(solution)\n",
    "display(game_value)"
   ]
  },
  {
   "cell_type": "markdown",
   "metadata": {
    "vscode": {
     "languageId": "markdown"
    }
   },
   "source": [
    "## Simplification of Game Value to Closed Form\n",
    "\n",
    "The game value expression above simplifies to:\n",
    "$$V(r,t) = \\frac{r^3 + t^3 - 1}{2(r^3 + t^3 - 7)}$$\n",
    "\n",
    "**Proof sketch:** \n",
    "\n",
    "1. **Substitution:** Let $u = r^3 + t^3 - 7$ to simplify notation.\n",
    "\n",
    "2. **Common denominator:** Note that $(r^3 + t^3 - 7)^2 = r^6 + 2r^3t^3 + t^6 - 14r^3 - 14t^3 + 49$, so all terms can be written with denominator $2u^3$.\n",
    "\n",
    "3. **Expand and collect:** Expand all products and collect terms over the common denominator $2u^3$. Use $t^3 - (r-1)^3 = t^3 - r^3 + 3r^2 - 3r + 1$ for the fourth term.\n",
    "\n",
    "4. **Cancellation:** After expanding and collecting like powers of $u$:\n",
    "   - All $u^3$ terms cancel\n",
    "   - Most $u^2$ terms cancel, leaving only $u^2(u + 6) = u^3 + 6u^2$ in the numerator\n",
    "   - Lower order terms cancel\n",
    "\n",
    "5. **Final simplification:**\n",
    "   $$\\frac{u^3 + 6u^2}{2u^3} = \\frac{u^2(u + 6)}{2u^3} = \\frac{u + 6}{2u} = \\frac{(r^3 + t^3 - 7) + 6}{2(r^3 + t^3 - 7)} = \\frac{r^3 + t^3 - 1}{2(r^3 + t^3 - 7)}$$"
   ]
  },
  {
   "cell_type": "code",
   "execution_count": null,
   "metadata": {},
   "outputs": [
    {
     "data": {
      "text/plain": [
       "True"
      ]
     },
     "execution_count": 63,
     "metadata": {},
     "output_type": "execute_result"
    }
   ],
   "source": [
    "# sanity check - do the expressions agree on random inputs?\n",
    "def numerical_eq(expr1, expr2, tolerance=1e-9, iters=1000):\n",
    "    for i in range(iters):\n",
    "        r_val = np.random.rand()\n",
    "        t_val = np.random.rand()\n",
    "        vals = {r: r_val, t: t_val}\n",
    "        if r_val + t_val > 1:\n",
    "            continue\n",
    "        if np.abs(expr1.subs(vals) - expr2.subs(vals)) > tolerance:\n",
    "            print(vals)\n",
    "            print(expr1.subs(vals), expr2.subs(vals))\n",
    "            return False\n",
    "    return True\n",
    "\n",
    "known_form = (1-r**3-t**3)/(14-2*r**3-2*t**3)\n",
    "numerical_eq(known_form, game_value)"
   ]
  }
 ],
 "metadata": {
  "kernelspec": {
   "display_name": "3.11.3",
   "language": "python",
   "name": "python3"
  },
  "language_info": {
   "codemirror_mode": {
    "name": "ipython",
    "version": 3
   },
   "file_extension": ".py",
   "mimetype": "text/x-python",
   "name": "python",
   "nbconvert_exporter": "python",
   "pygments_lexer": "ipython3",
   "version": "3.11.3"
  }
 },
 "nbformat": 4,
 "nbformat_minor": 4
}
