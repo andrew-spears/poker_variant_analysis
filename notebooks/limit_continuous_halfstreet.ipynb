{
 "cells": [
  {
   "cell_type": "code",
   "execution_count": 1,
   "metadata": {},
   "outputs": [
    {
     "name": "stderr",
     "output_type": "stream",
     "text": [
      "/var/folders/b1/z91xjqp97qb1ts5z67d5h7f00000gn/T/ipykernel_57270/3157739927.py:6: DeprecationWarning: Importing display from IPython.core.display is deprecated since IPython 7.14, please import from IPython display\n",
      "  from IPython.core.display import display, HTML\n"
     ]
    },
    {
     "data": {
      "text/html": [
       "\n",
       "<style>\n",
       "    .cell { margin-top: 0 !important; margin-bottom: 0 !important; }\n",
       "    .cell .input, .cell .output { margin-top: 0 !important; margin-bottom: 0 !important; }\n",
       "</style>\n"
      ],
      "text/plain": [
       "<IPython.core.display.HTML object>"
      ]
     },
     "metadata": {},
     "output_type": "display_data"
    },
    {
     "name": "stdout",
     "output_type": "stream",
     "text": [
      "Modules reloaded successfully!\n"
     ]
    }
   ],
   "source": [
    "import sys\n",
    "import os\n",
    "import importlib\n",
    "import numpy as np\n",
    "from itertools import product, permutations\n",
    "from IPython.core.display import display, HTML\n",
    "\n",
    "# widen printing output\n",
    "np.set_printoptions(linewidth=1000)\n",
    "\n",
    "# Custom CSS to reduce vertical space between code cells\n",
    "display(HTML(\"\"\"\n",
    "<style>\n",
    "    .cell { margin-top: 0 !important; margin-bottom: 0 !important; }\n",
    "    .cell .input, .cell .output { margin-top: 0 !important; margin-bottom: 0 !important; }\n",
    "</style>\n",
    "\"\"\"))\n",
    "\n",
    "project_root = os.path.abspath('..')  # or the absolute path to your project\n",
    "if project_root not in sys.path:\n",
    "    sys.path.append(project_root)\n",
    "\n",
    "import game_utils\n",
    "importlib.reload(game_utils)\n",
    "\n",
    "from game_utils import kuhn, utils, LP, Strategy, CFR, ZeroSumGame, progressiveKuhn\n",
    "importlib.reload(CFR)\n",
    "importlib.reload(kuhn)\n",
    "importlib.reload(progressiveKuhn)\n",
    "importlib.reload(utils)\n",
    "importlib.reload(LP)\n",
    "importlib.reload(Strategy)\n",
    "importlib.reload(ZeroSumGame)\n",
    "\n",
    "MixedStrategy = Strategy.MixedStrategy\n",
    "PureStrategy = Strategy.PureStrategy\n",
    "\n",
    "print(\"Modules reloaded successfully!\")"
   ]
  },
  {
   "cell_type": "code",
   "execution_count": null,
   "metadata": {},
   "outputs": [],
   "source": []
  }
 ],
 "metadata": {
  "kernelspec": {
   "display_name": "3.11.3",
   "language": "python",
   "name": "python3"
  },
  "language_info": {
   "codemirror_mode": {
    "name": "ipython",
    "version": 3
   },
   "file_extension": ".py",
   "mimetype": "text/x-python",
   "name": "python",
   "nbconvert_exporter": "python",
   "pygments_lexer": "ipython3",
   "version": "3.11.3"
  }
 },
 "nbformat": 4,
 "nbformat_minor": 2
}
