{
 "cells": [
  {
   "cell_type": "code",
   "execution_count": null,
   "metadata": {},
   "outputs": [
    {
     "name": "stdout",
     "output_type": "stream",
     "text": [
      "Modules reloaded successfully!\n"
     ]
    }
   ],
   "source": [
    "import sys\n",
    "import os\n",
    "import importlib\n",
    "import numpy as np\n",
    "\n",
    "# widen printing output\n",
    "np.set_printoptions(linewidth=1000)\n",
    "\n",
    "project_root = os.path.abspath('..')  # or the absolute path to your project\n",
    "if project_root not in sys.path:\n",
    "    sys.path.append(project_root)\n",
    "\n",
    "import game_utils\n",
    "importlib.reload(game_utils)\n",
    "\n",
    "from game_utils import kuhn, utils, LP, Strategy, CFR\n",
    "importlib.reload(CFR)\n",
    "importlib.reload(kuhn)\n",
    "importlib.reload(utils)\n",
    "importlib.reload(LP)\n",
    "importlib.reload(Strategy)\n",
    "\n",
    "MixedStrategy = Strategy.MixedStrategy\n",
    "PureStrategy = Strategy.PureStrategy\n",
    "\n",
    "print(\"Modules reloaded successfully!\")"
   ]
  },
  {
   "cell_type": "code",
   "execution_count": null,
   "metadata": {},
   "outputs": [],
   "source": [
    "# Linear programming solve\n",
    "def LP_Solve(game):\n",
    "    payoffs = game.convert_to_normal()\n",
    "    print(payoffs)\n",
    "\n",
    "    freqs1, value1 = LP.solve_normal_zero_sum(payoffs)\n",
    "    freqs2, value2 = LP.solve_normal_zero_sum(payoffs, player=1)\n",
    "\n",
    "    print(\"Value of the game: \", value1)\n",
    "\n",
    "    nash_strat1 = MixedStrategy.from_normal_form(freqs1, 0, game)\n",
    "    print(\"Player 1 Nash Strategy\")\n",
    "    utils.multiline_print(nash_strat1)\n",
    "    print(\"Player 1 info sets:\")\n",
    "    utils.multiline_print(game.info_sets(0))\n",
    "\n",
    "    nash_strat2 = MixedStrategy.from_normal_form(freqs2, 1, game)\n",
    "    print(\"Player 2 Nash Strategy\")\n",
    "    utils.multiline_print(nash_strat2)\n",
    "    print(\"Player 2 info sets:\")\n",
    "    utils.multiline_print(game.info_sets(1)) \n",
    "\n",
    "def CFR_solve(game, iters=10000):\n",
    "    solver = CFR.CFRSolver(game)\n",
    "    solver.train(iters)\n",
    "    utils.binaryStrategyHeatmap(solver.get_strategy(), transpose=True, figsize=(10, 3))"
   ]
  },
  {
   "cell_type": "code",
   "execution_count": 11,
   "metadata": {},
   "outputs": [
    {
     "name": "stdout",
     "output_type": "stream",
     "text": [
      "[[ 0.          0.          0.          0.          0.          0.          0.          0.        ]\n",
      " [ 0.          0.          0.16666667  0.16666667  0.16666667  0.16666667  0.33333333  0.33333333]\n",
      " [ 0.33333333 -0.16666667  0.33333333 -0.16666667  0.5         0.          0.5         0.        ]\n",
      " [ 0.33333333 -0.16666667  0.5         0.          0.66666667  0.16666667  0.83333333  0.33333333]\n",
      " [ 0.66666667  0.16666667  0.16666667 -0.33333333  0.66666667  0.16666667  0.16666667 -0.33333333]\n",
      " [ 0.66666667  0.16666667  0.33333333 -0.16666667  0.83333333  0.33333333  0.5         0.        ]\n",
      " [ 1.          0.          0.5        -0.5         1.16666667  0.16666667  0.66666667 -0.33333333]\n",
      " [ 1.          0.          0.66666667 -0.33333333  1.33333333  0.33333333  1.          0.        ]]\n"
     ]
    },
    {
     "ename": "AxisError",
     "evalue": "axis 1 is out of bounds for array of dimension 1",
     "output_type": "error",
     "traceback": [
      "\u001b[0;31m---------------------------------------------------------------------------\u001b[0m",
      "\u001b[0;31mAxisError\u001b[0m                                 Traceback (most recent call last)",
      "Cell \u001b[0;32mIn[11], line 1\u001b[0m\n\u001b[0;32m----> 1\u001b[0m \u001b[43mLP_Solve\u001b[49m\u001b[43m(\u001b[49m\u001b[43mkuhn\u001b[49m\u001b[38;5;241;43m.\u001b[39;49m\u001b[43mThreeCardNoCheck\u001b[49m\u001b[43m)\u001b[49m\n",
      "Cell \u001b[0;32mIn[10], line 6\u001b[0m, in \u001b[0;36mLP_Solve\u001b[0;34m(game)\u001b[0m\n\u001b[1;32m      3\u001b[0m payoffs \u001b[38;5;241m=\u001b[39m game\u001b[38;5;241m.\u001b[39mconvert_to_normal()\n\u001b[1;32m      4\u001b[0m \u001b[38;5;28mprint\u001b[39m(payoffs)\n\u001b[0;32m----> 6\u001b[0m freqs1, value1 \u001b[38;5;241m=\u001b[39m \u001b[43mLP\u001b[49m\u001b[38;5;241;43m.\u001b[39;49m\u001b[43msolve_normal_zero_sum\u001b[49m\u001b[43m(\u001b[49m\u001b[43mpayoffs\u001b[49m\u001b[43m[\u001b[49m\u001b[38;5;241;43m0\u001b[39;49m\u001b[43m]\u001b[49m\u001b[43m)\u001b[49m\n\u001b[1;32m      7\u001b[0m freqs2, value2 \u001b[38;5;241m=\u001b[39m LP\u001b[38;5;241m.\u001b[39msolve_normal_zero_sum(\u001b[38;5;241m-\u001b[39mpayoffs[\u001b[38;5;241m0\u001b[39m]\u001b[38;5;241m.\u001b[39mT)\n\u001b[1;32m      9\u001b[0m \u001b[38;5;28mprint\u001b[39m(\u001b[38;5;124m\"\u001b[39m\u001b[38;5;124mValue of the game: \u001b[39m\u001b[38;5;124m\"\u001b[39m, value1)\n",
      "File \u001b[0;32m~/poker_analysis/game_utils/LP.py:28\u001b[0m, in \u001b[0;36msolve_normal_zero_sum\u001b[0;34m(payoffs)\u001b[0m\n\u001b[1;32m     23\u001b[0m c[\u001b[38;5;241m-\u001b[39m\u001b[38;5;241m1\u001b[39m] \u001b[38;5;241m=\u001b[39m \u001b[38;5;241m-\u001b[39m\u001b[38;5;241m1\u001b[39m\n\u001b[1;32m     25\u001b[0m \u001b[38;5;66;03m# constraint of the form A^Tx >= v\u001b[39;00m\n\u001b[1;32m     26\u001b[0m \u001b[38;5;66;03m# rearranges into A_ub [[x], [v]] <= 0\u001b[39;00m\n\u001b[1;32m     27\u001b[0m \u001b[38;5;66;03m# A_ub is the block matrix [-A^T, 1]\u001b[39;00m\n\u001b[0;32m---> 28\u001b[0m A_ub \u001b[38;5;241m=\u001b[39m \u001b[43mnp\u001b[49m\u001b[38;5;241;43m.\u001b[39;49m\u001b[43mconcat\u001b[49m\u001b[43m(\u001b[49m\u001b[43m[\u001b[49m\u001b[38;5;241;43m-\u001b[39;49m\u001b[43mpayoffs\u001b[49m\u001b[38;5;241;43m.\u001b[39;49m\u001b[43mT\u001b[49m\u001b[43m,\u001b[49m\u001b[43m \u001b[49m\u001b[43mnp\u001b[49m\u001b[38;5;241;43m.\u001b[39;49m\u001b[43mones\u001b[49m\u001b[43m(\u001b[49m\u001b[43m(\u001b[49m\u001b[43mpayoffs\u001b[49m\u001b[38;5;241;43m.\u001b[39;49m\u001b[43mshape\u001b[49m\u001b[43m[\u001b[49m\u001b[38;5;241;43m0\u001b[39;49m\u001b[43m]\u001b[49m\u001b[43m,\u001b[49m\u001b[43m \u001b[49m\u001b[38;5;241;43m1\u001b[39;49m\u001b[43m)\u001b[49m\u001b[43m)\u001b[49m\u001b[43m]\u001b[49m\u001b[43m,\u001b[49m\u001b[43m \u001b[49m\u001b[43maxis\u001b[49m\u001b[38;5;241;43m=\u001b[39;49m\u001b[38;5;241;43m1\u001b[39;49m\u001b[43m)\u001b[49m\n\u001b[1;32m     29\u001b[0m b_ub \u001b[38;5;241m=\u001b[39m np\u001b[38;5;241m.\u001b[39mzeros(payoffs\u001b[38;5;241m.\u001b[39mshape[\u001b[38;5;241m1\u001b[39m])\n\u001b[1;32m     31\u001b[0m \u001b[38;5;66;03m# constraint on probabilities sum to 1\u001b[39;00m\n",
      "\u001b[0;31mAxisError\u001b[0m: axis 1 is out of bounds for array of dimension 1"
     ]
    }
   ],
   "source": [
    "LP_Solve(kuhn.ThreeCardNoCheck)"
   ]
  },
  {
   "cell_type": "code",
   "execution_count": 60,
   "metadata": {},
   "outputs": [
    {
     "ename": "TypeError",
     "evalue": "Can't instantiate abstract class subclass with abstract methods _get_actions_at_info_set, possible_info_sets, possible_types",
     "output_type": "error",
     "traceback": [
      "\u001b[0;31m---------------------------------------------------------------------------\u001b[0m",
      "\u001b[0;31mTypeError\u001b[0m                                 Traceback (most recent call last)",
      "Cell \u001b[0;32mIn[60], line 1\u001b[0m\n\u001b[0;32m----> 1\u001b[0m \u001b[43mCFR_solve\u001b[49m\u001b[43m(\u001b[49m\u001b[43mThreeCardNoCheck\u001b[49m\u001b[43m)\u001b[49m\n\u001b[1;32m      2\u001b[0m \u001b[38;5;66;03m# strategies should agree almost perfectly with the LP solution!\u001b[39;00m\n",
      "Cell \u001b[0;32mIn[58], line 28\u001b[0m, in \u001b[0;36mCFR_solve\u001b[0;34m(game, iters)\u001b[0m\n\u001b[1;32m     26\u001b[0m \u001b[38;5;28;01mdef\u001b[39;00m \u001b[38;5;21mCFR_solve\u001b[39m(game, iters\u001b[38;5;241m=\u001b[39m\u001b[38;5;241m10000\u001b[39m):\n\u001b[1;32m     27\u001b[0m     solver \u001b[38;5;241m=\u001b[39m CFR\u001b[38;5;241m.\u001b[39mCFRSolver(game)\n\u001b[0;32m---> 28\u001b[0m     \u001b[43msolver\u001b[49m\u001b[38;5;241;43m.\u001b[39;49m\u001b[43mtrain\u001b[49m\u001b[43m(\u001b[49m\u001b[43miters\u001b[49m\u001b[43m)\u001b[49m\n\u001b[1;32m     29\u001b[0m     utils\u001b[38;5;241m.\u001b[39mbinaryStrategyHeatmap(solver\u001b[38;5;241m.\u001b[39mget_strategy(), transpose\u001b[38;5;241m=\u001b[39m\u001b[38;5;28;01mTrue\u001b[39;00m, figsize\u001b[38;5;241m=\u001b[39m(\u001b[38;5;241m10\u001b[39m, \u001b[38;5;241m3\u001b[39m))\n",
      "File \u001b[0;32m~/poker_analysis/game_utils/CFR.py:87\u001b[0m, in \u001b[0;36mCFRSolver.train\u001b[0;34m(self, iterations)\u001b[0m\n\u001b[1;32m     85\u001b[0m \u001b[38;5;28;01mfor\u001b[39;00m _ \u001b[38;5;129;01min\u001b[39;00m \u001b[38;5;28mrange\u001b[39m(iterations):\n\u001b[1;32m     86\u001b[0m     \u001b[38;5;28;01mfor\u001b[39;00m player \u001b[38;5;129;01min\u001b[39;00m [\u001b[38;5;241m0\u001b[39m, \u001b[38;5;241m1\u001b[39m]:\n\u001b[0;32m---> 87\u001b[0m         state \u001b[38;5;241m=\u001b[39m \u001b[38;5;28;43mself\u001b[39;49m\u001b[38;5;241;43m.\u001b[39;49m\u001b[43mgame_class\u001b[49m\u001b[38;5;241;43m.\u001b[39;49m\u001b[43mrandom\u001b[49m\u001b[43m(\u001b[49m\u001b[43m)\u001b[49m\n\u001b[1;32m     88\u001b[0m         reach_probs \u001b[38;5;241m=\u001b[39m np\u001b[38;5;241m.\u001b[39mones(\u001b[38;5;241m2\u001b[39m)\n\u001b[1;32m     89\u001b[0m         \u001b[38;5;28mself\u001b[39m\u001b[38;5;241m.\u001b[39mcfr_update(player, state, reach_probs)\n",
      "File \u001b[0;32m~/poker_analysis/game_utils/kuhn.py:39\u001b[0m, in \u001b[0;36mKuhn.random\u001b[0;34m(cls)\u001b[0m\n\u001b[1;32m     37\u001b[0m deck \u001b[38;5;241m=\u001b[39m \u001b[38;5;28mlist\u001b[39m(\u001b[38;5;28mrange\u001b[39m(n))\n\u001b[1;32m     38\u001b[0m np\u001b[38;5;241m.\u001b[39mrandom\u001b[38;5;241m.\u001b[39mshuffle(deck)\n\u001b[0;32m---> 39\u001b[0m \u001b[38;5;28;01mreturn\u001b[39;00m \u001b[38;5;28;43mcls\u001b[39;49m\u001b[43m(\u001b[49m\u001b[43mdeck\u001b[49m\u001b[38;5;241;43m.\u001b[39;49m\u001b[43mpop\u001b[49m\u001b[43m(\u001b[49m\u001b[43m)\u001b[49m\u001b[43m,\u001b[49m\u001b[43m \u001b[49m\u001b[43mdeck\u001b[49m\u001b[38;5;241;43m.\u001b[39;49m\u001b[43mpop\u001b[49m\u001b[43m(\u001b[49m\u001b[43m)\u001b[49m\u001b[43m,\u001b[49m\u001b[43m \u001b[49m\u001b[38;5;124;43m\"\u001b[39;49m\u001b[38;5;124;43m\"\u001b[39;49m\u001b[43m)\u001b[49m\n",
      "\u001b[0;31mTypeError\u001b[0m: Can't instantiate abstract class subclass with abstract methods _get_actions_at_info_set, possible_info_sets, possible_types"
     ]
    }
   ],
   "source": [
    "CFR_solve(ThreeCardNoCheck)\n",
    "# strategies should agree almost perfectly with the LP solution!"
   ]
  },
  {
   "cell_type": "code",
   "execution_count": 45,
   "metadata": {},
   "outputs": [
    {
     "name": "stdout",
     "output_type": "stream",
     "text": [
      "Value of the game:  -0.05555555555555556\n",
      "Player 1 Nash Strategy\n",
      "{'K': np.float64(1.0), 'B': np.float64(0.0)}\n",
      "{'F': np.float64(1.0), 'C': np.float64(0.0)}\n",
      "{'K': np.float64(1.0), 'B': np.float64(0.0)}\n",
      "{'F': np.float64(0.6666666666666667), 'C': np.float64(0.33333333333333337)}\n",
      "{'K': np.float64(1.0), 'B': np.float64(0.0)}\n",
      "{'F': np.float64(0.0), 'C': np.float64(1.0)}\n",
      "Player 1 info sets:\n",
      "InfoSet with type: 0, history: \n",
      "InfoSet with type: 0, history: KB\n",
      "InfoSet with type: 1, history: \n",
      "InfoSet with type: 1, history: KB\n",
      "InfoSet with type: 2, history: \n",
      "InfoSet with type: 2, history: KB\n",
      "\n",
      "Player 2 Nash Strategy\n",
      "{'K': np.float64(0.6666666666666667), 'B': np.float64(0.3333333333333333)}\n",
      "{'F': np.float64(1.0), 'C': np.float64(0.0)}\n",
      "{'K': np.float64(1.0), 'B': np.float64(0.0)}\n",
      "{'F': np.float64(0.6666666666666667), 'C': np.float64(0.3333333333333333)}\n",
      "{'K': np.float64(0.0), 'B': np.float64(1.0)}\n",
      "{'F': np.float64(0.0), 'C': np.float64(1.0)}\n",
      "Player 2 info sets:\n",
      "InfoSet with type: 0, history: K\n",
      "InfoSet with type: 0, history: B\n",
      "InfoSet with type: 1, history: K\n",
      "InfoSet with type: 1, history: B\n",
      "InfoSet with type: 2, history: K\n",
      "InfoSet with type: 2, history: B\n"
     ]
    }
   ],
   "source": [
    "LP_Solve(ThreeCard)"
   ]
  },
  {
   "cell_type": "code",
   "execution_count": 51,
   "metadata": {},
   "outputs": [
    {
     "data": {
      "image/png": "[encoded data removed]",
      "text/plain": [
       "<Figure size 1000x300 with 2 Axes>"
      ]
     },
     "metadata": {},
     "output_type": "display_data"
    }
   ],
   "source": [
    "CFR_solve(ThreeCard, 500000)"
   ]
  },
  {
   "cell_type": "code",
   "execution_count": 55,
   "metadata": {},
   "outputs": [],
   "source": [
    "# the CFR and LP got slightly different solutions.\n",
    "# LP p1 strategy looks dubious... \n",
    "# play both p1 strategies against both p2 strategies.\n",
    "\n",
    "normal_form = ThreeCard.convert_to_normal()\n",
    "payoffs, p1_strategies, p2_strategies, infoSets1, infoSets2 = normal_form\n",
    "\n",
    "freqs1, value1 = LP.solve_normal_zero_sum(normal_form[0])\n",
    "freqs2, value2 = LP.solve_normal_zero_sum(-normal_form[0].T)\n",
    "\n",
    "LP_strat1 = utils.normal_strategy_to_extensive(freqs1, p1_strategies, infoSets1)\n",
    "LP_strat2 = utils.normal_strategy_to_extensive(freqs2, p2_strategies, infoSets2)\n",
    "\n",
    "solver = CFR.CFRSolver(ThreeCard)\n",
    "solver.train(50000)\n"
   ]
  },
  {
   "cell_type": "code",
   "execution_count": 56,
   "metadata": {},
   "outputs": [
    {
     "data": {
      "text/plain": [
       "{InfoSet with type: 1, history: : array([0.99803468, 0.00196532]),\n",
       " InfoSet with type: 2, history: K: array([0., 1.]),\n",
       " InfoSet with type: 1, history: KB: array([0.43678502, 0.56321498]),\n",
       " InfoSet with type: 2, history: B: array([0., 1.]),\n",
       " InfoSet with type: 0, history: : array([0.75691701, 0.24308299]),\n",
       " InfoSet with type: 0, history: KB: array([1., 0.]),\n",
       " InfoSet with type: 0, history: K: array([0.6523252, 0.3476748]),\n",
       " InfoSet with type: 0, history: B: array([1., 0.]),\n",
       " InfoSet with type: 1, history: K: array([9.99970047e-01, 2.99526748e-05]),\n",
       " InfoSet with type: 1, history: B: array([0.66047034, 0.33952966]),\n",
       " InfoSet with type: 2, history: : array([0.3009061, 0.6990939]),\n",
       " InfoSet with type: 2, history: KB: array([0., 1.])}"
      ]
     },
     "execution_count": 56,
     "metadata": {},
     "output_type": "execute_result"
    }
   ],
   "source": [
    "solver.get_strategy()"
   ]
  }
 ],
 "metadata": {
  "kernelspec": {
   "display_name": "3.11.3",
   "language": "python",
   "name": "python3"
  },
  "language_info": {
   "codemirror_mode": {
    "name": "ipython",
    "version": 3
   },
   "file_extension": ".py",
   "mimetype": "text/x-python",
   "name": "python",
   "nbconvert_exporter": "python",
   "pygments_lexer": "ipython3",
   "version": "3.11.3"
  }
 },
 "nbformat": 4,
 "nbformat_minor": 2
}
