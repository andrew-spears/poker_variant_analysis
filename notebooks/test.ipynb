{
 "cells": [
  {
   "cell_type": "code",
   "execution_count": 14,
   "metadata": {},
   "outputs": [
    {
     "name": "stdout",
     "output_type": "stream",
     "text": [
      "Modules reloaded successfully!\n"
     ]
    }
   ],
   "source": [
    "import sys\n",
    "import os\n",
    "import importlib\n",
    "import numpy as np\n",
    "\n",
    "# widen printing output\n",
    "np.set_printoptions(linewidth=1000)\n",
    "\n",
    "project_root = os.path.abspath('..')  # or the absolute path to your project\n",
    "if project_root not in sys.path:\n",
    "    sys.path.append(project_root)\n",
    "\n",
    "import game_utils\n",
    "importlib.reload(game_utils)\n",
    "\n",
    "from game_utils import kuhn, RPS, utils, LP, Strategy, CFR\n",
    "importlib.reload(RPS)\n",
    "importlib.reload(CFR)\n",
    "importlib.reload(kuhn)\n",
    "importlib.reload(utils)\n",
    "importlib.reload(LP)\n",
    "importlib.reload(Strategy)\n",
    "\n",
    "MixedStrategy = Strategy.MixedStrategy\n",
    "PureStrategy = Strategy.PureStrategy\n",
    "\n",
    "print(\"Modules reloaded successfully!\")"
   ]
  },
  {
   "cell_type": "code",
   "execution_count": 15,
   "metadata": {},
   "outputs": [
    {
     "data": {
      "text/plain": [
       "{InfoSet with type: None, history: None: array([0., 1., 0.])}"
      ]
     },
     "execution_count": 15,
     "metadata": {},
     "output_type": "execute_result"
    }
   ],
   "source": [
    "game = RPS.RPS\n",
    "infoSets1 = game.info_sets(0)\n",
    "available_actions = [game.get_actions_at_info_set(I) for I in infoSets1]\n",
    "strat = PureStrategy({I: available_actions[i][1] for i, I in enumerate(infoSets1)}, game)\n",
    "strat.to_mixed()"
   ]
  },
  {
   "cell_type": "code",
   "execution_count": 16,
   "metadata": {},
   "outputs": [
    {
     "name": "stdout",
     "output_type": "stream",
     "text": [
      "InfoSet with type: None, history: None : S\n",
      "InfoSet with type: None, history: None : R\n"
     ]
    },
    {
     "data": {
      "text/plain": [
       "-1.0"
      ]
     },
     "execution_count": 16,
     "metadata": {},
     "output_type": "execute_result"
    }
   ],
   "source": [
    "s1 = game.pure_strategies(0)[-1]\n",
    "s2 = game.pure_strategies(1)[0]\n",
    "utils.multiline_print(s1)\n",
    "utils.multiline_print(s2)\n",
    "game.expected_payoff_exact(s1, s2)"
   ]
  },
  {
   "cell_type": "code",
   "execution_count": 17,
   "metadata": {},
   "outputs": [
    {
     "name": "stdout",
     "output_type": "stream",
     "text": [
      "InfoSet with type: None, history: None : [0.32081813 0.35871864 0.32046323]\n"
     ]
    }
   ],
   "source": [
    "solver = CFR.CFRSolver(game)\n",
    "solver.train(100)\n",
    "s1 = solver.get_strategy(0)\n",
    "s2 = solver.get_strategy(1)\n",
    "utils.multiline_print(s1)"
   ]
  },
  {
   "cell_type": "code",
   "execution_count": null,
   "metadata": {},
   "outputs": [],
   "source": []
  },
  {
   "cell_type": "code",
   "execution_count": null,
   "metadata": {},
   "outputs": [],
   "source": []
  }
 ],
 "metadata": {
  "kernelspec": {
   "display_name": "3.11.3",
   "language": "python",
   "name": "python3"
  },
  "language_info": {
   "codemirror_mode": {
    "name": "ipython",
    "version": 3
   },
   "file_extension": ".py",
   "mimetype": "text/x-python",
   "name": "python",
   "nbconvert_exporter": "python",
   "pygments_lexer": "ipython3",
   "version": "3.11.3"
  }
 },
 "nbformat": 4,
 "nbformat_minor": 2
}
