{
 "cells": [
  {
   "cell_type": "code",
   "execution_count": 9,
   "metadata": {},
   "outputs": [
    {
     "name": "stdout",
     "output_type": "stream",
     "text": [
      "Modules reloaded successfully!\n"
     ]
    }
   ],
   "source": [
    "import sys\n",
    "import os\n",
    "import importlib\n",
    "\n",
    "project_root = os.path.abspath('..')  # or the absolute path to your project\n",
    "if project_root not in sys.path:\n",
    "    sys.path.append(project_root)\n",
    "\n",
    "import game_utils\n",
    "importlib.reload(game_utils)\n",
    "\n",
    "# Optionally import submodules you edit a lot:\n",
    "from game_utils import RPS, utils, linProg, Strategy\n",
    "importlib.reload(RPS)\n",
    "importlib.reload(utils)\n",
    "importlib.reload(linProg)\n",
    "importlib.reload(Strategy)\n",
    "\n",
    "MixedStrategy = Strategy.MixedStrategy\n",
    "PureStrategy = Strategy.PureStrategy\n",
    "\n",
    "# Now RPS, utils, linProg are reloaded and ready for use\n",
    "print(\"Modules reloaded successfully!\")"
   ]
  },
  {
   "cell_type": "code",
   "execution_count": 10,
   "metadata": {},
   "outputs": [
    {
     "data": {
      "text/plain": [
       "[{'b': 0.5, 'a': 1.5}, {'b': 2}]"
      ]
     },
     "execution_count": 10,
     "metadata": {},
     "output_type": "execute_result"
    }
   ],
   "source": [
    "MixedStrategy([{'a': 0.5, 'b': 0.5}, {'b':1}]) + PureStrategy(['a', 'b']).to_mixed()"
   ]
  },
  {
   "cell_type": "code",
   "execution_count": 12,
   "metadata": {},
   "outputs": [],
   "source": [
    "RPS_normal = RPS.RPS.convert_to_normal()\n",
    "RPS_payoffs = RPS_normal[0]"
   ]
  },
  {
   "cell_type": "code",
   "execution_count": 8,
   "metadata": {},
   "outputs": [
    {
     "data": {
      "text/plain": [
       "(array([[ 0., -1.,  1.],\n",
       "        [ 1.,  0., -1.],\n",
       "        [-1.,  1.,  0.]]),\n",
       " [['R'], ['P'], ['S']],\n",
       " [['R'], ['P'], ['S']],\n",
       " {InfoSet with type: None, history: None: 0},\n",
       " {InfoSet with type: None, history: None: 0})"
      ]
     },
     "execution_count": 8,
     "metadata": {},
     "output_type": "execute_result"
    }
   ],
   "source": [
    "\n",
    "RPS_normal"
   ]
  },
  {
   "cell_type": "code",
   "execution_count": 14,
   "metadata": {},
   "outputs": [],
   "source": [
    "normal_freqs, value = game_utils.linProg.solve_normal_zero_sum(RPS_payoffs)"
   ]
  },
  {
   "cell_type": "code",
   "execution_count": 15,
   "metadata": {},
   "outputs": [
    {
     "data": {
      "text/plain": [
       "array([0.33333333, 0.33333333, 0.33333333])"
      ]
     },
     "execution_count": 15,
     "metadata": {},
     "output_type": "execute_result"
    }
   ],
   "source": [
    "normal_freqs"
   ]
  },
  {
   "cell_type": "code",
   "execution_count": 16,
   "metadata": {},
   "outputs": [
    {
     "data": {
      "text/plain": [
       "[{'S': np.float64(0.3333333333333333),\n",
       "  'R': np.float64(0.3333333333333333),\n",
       "  'P': np.float64(0.3333333333333334)}]"
      ]
     },
     "execution_count": 16,
     "metadata": {},
     "output_type": "execute_result"
    }
   ],
   "source": [
    "utils.normal_strategy_to_extensive(normal_freqs, RPS_normal[1], RPS_normal[3])"
   ]
  },
  {
   "cell_type": "code",
   "execution_count": null,
   "metadata": {},
   "outputs": [],
   "source": []
  }
 ],
 "metadata": {
  "kernelspec": {
   "display_name": "3.11.3",
   "language": "python",
   "name": "python3"
  },
  "language_info": {
   "codemirror_mode": {
    "name": "ipython",
    "version": 3
   },
   "file_extension": ".py",
   "mimetype": "text/x-python",
   "name": "python",
   "nbconvert_exporter": "python",
   "pygments_lexer": "ipython3",
   "version": "3.11.3"
  }
 },
 "nbformat": 4,
 "nbformat_minor": 2
}
